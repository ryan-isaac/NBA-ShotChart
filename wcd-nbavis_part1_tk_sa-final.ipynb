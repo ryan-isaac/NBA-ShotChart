{
 "cells": [
  {
   "cell_type": "markdown",
   "metadata": {},
   "source": [
    "<center>\n",
    "     <img src=\"https://content.sportslogos.net/news/2017/07/New-NBA-Logo-1.png\" width='30%'> \n",
    "</center>\n",
    "\n",
    "----------\n",
    "\n",
    "<h1 align=\"center\"> NBA Data Visualization | Part 1: Data Collection and Preparation <a class=\"tocSkip\"> </h1>  \n",
    "\n",
    "<center align=\"left\"> <font size='4'>  Developed by: </font><font size='4' color='#33AAFBD'> Saud Alkoheji & Taz Khan </font></center>\n",
    "<br>\n",
    "\n",
    "----------"
   ]
  },
  {
   "cell_type": "markdown",
   "metadata": {
    "ExecuteTime": {
     "end_time": "2020-08-05T23:30:58.414365Z",
     "start_time": "2020-08-05T23:30:58.401367Z"
    },
    "heading_collapsed": true
   },
   "source": [
    "# Introduction"
   ]
  },
  {
   "cell_type": "markdown",
   "metadata": {
    "hidden": true
   },
   "source": [
    "This notebook is part of 3  sequenced files.  The notebook is created using Jupyter and is used in the initial stages of collecting, engineering, and exploring data to be used in a visualization tool \"Tableu\". A full presentation is provided with this notebook for the purpose of explaining and demonstrating how the visualization tool works.\n",
    "\n",
    "The notebook is ordered as follows:\n",
    "\n",
    "1- Introduction  \n",
    "2- Resources Used  \n",
    "3- Imports  \n",
    "4- API Request (Team & Players Data)  \n",
    "5- ShotChart DataFrames Creation  \n",
    "6- Preparing Data  \n",
    "7- Simple Exploratory Data Analysis  \n",
    "8- Data Engineering   \n",
    "9- Selenium (Headshot Images)  \n",
    "\n",
    "\n",
    "The final visualization court chart is available publicly <a href=\"https://public.tableau.com/profile/taz.khan#!/vizhome/NBAShotChart_15968023412020/Dashboard?publish=yes\">here.</a>"
   ]
  },
  {
   "cell_type": "markdown",
   "metadata": {
    "heading_collapsed": true,
    "hidden": true
   },
   "source": [
    "## Resources Used"
   ]
  },
  {
   "cell_type": "markdown",
   "metadata": {
    "hidden": true
   },
   "source": [
    "- nba_api <a href=\"https://github.com/swar/nba_api \">package</a> from github, maintained by to Swar Patel to request statistics from nba.com \n",
    "- Guide on hexbins  <a href=\"https://www.theinformationlab.co.uk/2015/05/12/hexbins-in-tableau/ \">in tableau</a> by Chris Love\n",
    "- <a href=\"https://www.82games.com/locations.htm\"> Zone correlation to players'</a>  movement and ball possession\n",
    "- Video about <a href=\"https://www.youtube.com/watch?v=yWXD7xi1f30\"> Creating an Interactive Shot Map </a>\n",
    "- Court  <a href=\"https://datavizardry.com/2020/02/03/nba-shot-charts-part-2/ \">hexbinning</a> setup and dimensions by Daniel Teo\n",
    "- How Mapping Shots In The NBA Changed It Forever. An article from <a href=\"https://fivethirtyeight.com/features/how-mapping-shots-in-the-nba-changed-it-forever/\">fivethirtyeight</a>   \n",
    "by Kirk Goldberry; considered by many the leading visualizer of NBA shooting data\n",
    "- <a href=\"https://www.instagram.com/kirkgoldsberry/?hl=en\">Instagram</a> account of Kirk Goldberry. NBA analyst at ESPN. NYT bestselling author of Sprawlball. \n",
    "- <a href=\"https://campus.datacamp.com/courses/introduction-to-tableau/getting-started-with-tableau?ex=10\">DataCamp Introduction to Tableu</a> was used to quickly learn the fundementals needed in Tableu; load data,   \n",
    "load worksheets, create visualizations and present dashboards.\n",
    "- Article on <a href=\"https://analyzeball.com/2019/12/24/clustering-nba-shot-charts-part-2/\"> Clustering NBA Shot Charts</a>"
   ]
  },
  {
   "cell_type": "markdown",
   "metadata": {
    "ExecuteTime": {
     "end_time": "2020-08-05T23:26:03.585551Z",
     "start_time": "2020-08-05T23:26:03.579528Z"
    },
    "heading_collapsed": true
   },
   "source": [
    "# Imports "
   ]
  },
  {
   "cell_type": "code",
   "execution_count": 1,
   "metadata": {
    "ExecuteTime": {
     "end_time": "2020-08-07T18:42:42.332118Z",
     "start_time": "2020-08-07T18:42:40.079312Z"
    },
    "hidden": true
   },
   "outputs": [
    {
     "ename": "ImportError",
     "evalue": "cannot import name 'remove_na' from 'pandas.core.series' (C:\\Users\\tazkh\\anaconda3\\lib\\site-packages\\pandas\\core\\series.py)",
     "output_type": "error",
     "traceback": [
      "\u001b[1;31m---------------------------------------------------------------------------\u001b[0m",
      "\u001b[1;31mImportError\u001b[0m                               Traceback (most recent call last)",
      "\u001b[1;32m<ipython-input-1-62d4f97bb4e4>\u001b[0m in \u001b[0;36m<module>\u001b[1;34m\u001b[0m\n\u001b[0;32m      5\u001b[0m \u001b[1;32mimport\u001b[0m \u001b[0mnumpy\u001b[0m \u001b[1;32mas\u001b[0m \u001b[0mnp\u001b[0m\u001b[1;33m\u001b[0m\u001b[1;33m\u001b[0m\u001b[0m\n\u001b[0;32m      6\u001b[0m \u001b[1;32mimport\u001b[0m \u001b[0mmatplotlib\u001b[0m\u001b[1;33m.\u001b[0m\u001b[0mpyplot\u001b[0m \u001b[1;32mas\u001b[0m \u001b[0mplt\u001b[0m\u001b[1;33m\u001b[0m\u001b[1;33m\u001b[0m\u001b[0m\n\u001b[1;32m----> 7\u001b[1;33m \u001b[1;32mimport\u001b[0m \u001b[0mseaborn\u001b[0m \u001b[1;32mas\u001b[0m \u001b[0msns\u001b[0m\u001b[1;33m\u001b[0m\u001b[1;33m\u001b[0m\u001b[0m\n\u001b[0m\u001b[0;32m      8\u001b[0m \u001b[1;33m\u001b[0m\u001b[0m\n\u001b[0;32m      9\u001b[0m \u001b[0mget_ipython\u001b[0m\u001b[1;33m(\u001b[0m\u001b[1;33m)\u001b[0m\u001b[1;33m.\u001b[0m\u001b[0mrun_line_magic\u001b[0m\u001b[1;33m(\u001b[0m\u001b[1;34m'matplotlib'\u001b[0m\u001b[1;33m,\u001b[0m \u001b[1;34m'inline '\u001b[0m\u001b[1;33m)\u001b[0m\u001b[1;33m\u001b[0m\u001b[1;33m\u001b[0m\u001b[0m\n",
      "\u001b[1;32m~\\anaconda3\\lib\\site-packages\\seaborn\\__init__.py\u001b[0m in \u001b[0;36m<module>\u001b[1;34m\u001b[0m\n\u001b[0;32m      3\u001b[0m \u001b[1;32mfrom\u001b[0m \u001b[1;33m.\u001b[0m\u001b[0mpalettes\u001b[0m \u001b[1;32mimport\u001b[0m \u001b[1;33m*\u001b[0m\u001b[1;33m\u001b[0m\u001b[1;33m\u001b[0m\u001b[0m\n\u001b[0;32m      4\u001b[0m \u001b[1;32mfrom\u001b[0m \u001b[1;33m.\u001b[0m\u001b[0mlinearmodels\u001b[0m \u001b[1;32mimport\u001b[0m \u001b[1;33m*\u001b[0m\u001b[1;33m\u001b[0m\u001b[1;33m\u001b[0m\u001b[0m\n\u001b[1;32m----> 5\u001b[1;33m \u001b[1;32mfrom\u001b[0m \u001b[1;33m.\u001b[0m\u001b[0mcategorical\u001b[0m \u001b[1;32mimport\u001b[0m \u001b[1;33m*\u001b[0m\u001b[1;33m\u001b[0m\u001b[1;33m\u001b[0m\u001b[0m\n\u001b[0m\u001b[0;32m      6\u001b[0m \u001b[1;32mfrom\u001b[0m \u001b[1;33m.\u001b[0m\u001b[0mdistributions\u001b[0m \u001b[1;32mimport\u001b[0m \u001b[1;33m*\u001b[0m\u001b[1;33m\u001b[0m\u001b[1;33m\u001b[0m\u001b[0m\n\u001b[0;32m      7\u001b[0m \u001b[1;32mfrom\u001b[0m \u001b[1;33m.\u001b[0m\u001b[0mtimeseries\u001b[0m \u001b[1;32mimport\u001b[0m \u001b[1;33m*\u001b[0m\u001b[1;33m\u001b[0m\u001b[1;33m\u001b[0m\u001b[0m\n",
      "\u001b[1;32m~\\anaconda3\\lib\\site-packages\\seaborn\\categorical.py\u001b[0m in \u001b[0;36m<module>\u001b[1;34m\u001b[0m\n\u001b[0;32m      5\u001b[0m \u001b[1;32mfrom\u001b[0m \u001b[0mscipy\u001b[0m \u001b[1;32mimport\u001b[0m \u001b[0mstats\u001b[0m\u001b[1;33m\u001b[0m\u001b[1;33m\u001b[0m\u001b[0m\n\u001b[0;32m      6\u001b[0m \u001b[1;32mimport\u001b[0m \u001b[0mpandas\u001b[0m \u001b[1;32mas\u001b[0m \u001b[0mpd\u001b[0m\u001b[1;33m\u001b[0m\u001b[1;33m\u001b[0m\u001b[0m\n\u001b[1;32m----> 7\u001b[1;33m \u001b[1;32mfrom\u001b[0m \u001b[0mpandas\u001b[0m\u001b[1;33m.\u001b[0m\u001b[0mcore\u001b[0m\u001b[1;33m.\u001b[0m\u001b[0mseries\u001b[0m \u001b[1;32mimport\u001b[0m \u001b[0mremove_na\u001b[0m\u001b[1;33m\u001b[0m\u001b[1;33m\u001b[0m\u001b[0m\n\u001b[0m\u001b[0;32m      8\u001b[0m \u001b[1;32mimport\u001b[0m \u001b[0mmatplotlib\u001b[0m \u001b[1;32mas\u001b[0m \u001b[0mmpl\u001b[0m\u001b[1;33m\u001b[0m\u001b[1;33m\u001b[0m\u001b[0m\n\u001b[0;32m      9\u001b[0m \u001b[1;32mimport\u001b[0m \u001b[0mmatplotlib\u001b[0m\u001b[1;33m.\u001b[0m\u001b[0mpyplot\u001b[0m \u001b[1;32mas\u001b[0m \u001b[0mplt\u001b[0m\u001b[1;33m\u001b[0m\u001b[1;33m\u001b[0m\u001b[0m\n",
      "\u001b[1;31mImportError\u001b[0m: cannot import name 'remove_na' from 'pandas.core.series' (C:\\Users\\tazkh\\anaconda3\\lib\\site-packages\\pandas\\core\\series.py)"
     ]
    }
   ],
   "source": [
    "# Basic initial libraries\n",
    "import os\n",
    "import pandas as pd \n",
    "import datetime\n",
    "import numpy as np \n",
    "import matplotlib.pyplot as plt\n",
    "import seaborn as sns\n",
    "\n",
    "%matplotlib inline \n",
    "\n",
    "from pandas import DataFrame\n",
    "from collections import Counter\n",
    "\n",
    "#NBA  API - client package that gives access to stats on NBA.com\n",
    "from nba_api.stats.static import players\n",
    "from nba_api.stats.endpoints import shotchartdetail\n",
    "from nba_api.stats.endpoints import commonplayerinfo\n",
    "from nba_api.stats.endpoints import playercareerstats\n",
    "from nba_api.stats.static import teams\n",
    "\n",
    "# Webscraping tools\n",
    "from selenium import webdriver\n",
    "from selenium.webdriver.support.ui import Select\n",
    "import requests as re\n",
    "from time import sleep\n",
    "import random\n",
    "from selenium import webdriver\n",
    "from selenium.webdriver.common.keys import Keys\n",
    "import urllib\n",
    "from bs4 import BeautifulSoup\n",
    "import bs4\n",
    "from bs4 import BeautifulSoup\n"
   ]
  },
  {
   "cell_type": "markdown",
   "metadata": {
    "ExecuteTime": {
     "end_time": "2020-08-06T20:16:03.480740Z",
     "start_time": "2020-08-06T20:16:03.464723Z"
    },
    "heading_collapsed": true
   },
   "source": [
    "# Requests for Player and Team Data"
   ]
  },
  {
   "cell_type": "code",
   "execution_count": 43,
   "metadata": {
    "ExecuteTime": {
     "end_time": "2020-08-06T20:14:47.339439Z",
     "start_time": "2020-08-06T20:14:47.328398Z"
    },
    "hidden": true
   },
   "outputs": [
    {
     "data": {
      "text/plain": [
       "'C:\\\\Users\\\\tazkh\\\\OneDrive\\\\Documents\\\\WeCloudData\\\\Project'"
      ]
     },
     "execution_count": 43,
     "metadata": {},
     "output_type": "execute_result"
    }
   ],
   "source": [
    "# Checking the directory path - for path, in order to easily find the files\n",
    "curDir = os.getcwd()\n",
    "curDir"
   ]
  },
  {
   "cell_type": "code",
   "execution_count": 130,
   "metadata": {
    "ExecuteTime": {
     "end_time": "2020-08-07T09:45:15.058176Z",
     "start_time": "2020-08-07T09:45:15.043134Z"
    },
    "hidden": true
   },
   "outputs": [],
   "source": [
    "# Paramters needed for requesting through the API\n",
    "custom_headers = {\n",
    "    'Host': 'stats.nba.com',\n",
    "    'Connection': 'keep-alive',\n",
    "    'Cache-Control': 'max-age=0',\n",
    "    'Upgrade-Insecure-Requests': '1',\n",
    "    'User-Agent': 'Mozilla/5.0 (Macintosh; Intel Mac OS X 10_14_3) AppleWebKit/537.36 (KHTML, like Gecko) Chrome/73.0.3683.86 Safari/537.36',\n",
    "    'Accept': 'text/html,application/xhtml+xml,application/xml;q=0.9,image/webp,image/apng,*/*;q=0.8,application/signed-exchange;v=b3',\n",
    "    'Accept-Encoding': 'gzip, deflate, br',\n",
    "    'Accept-Language': 'en-US,en;q=0.9',\n",
    "}"
   ]
  },
  {
   "cell_type": "code",
   "execution_count": 133,
   "metadata": {
    "ExecuteTime": {
     "end_time": "2020-08-06T04:12:35.606989Z",
     "start_time": "2020-08-06T04:12:35.581489Z"
    },
    "hidden": true,
    "scrolled": true
   },
   "outputs": [
    {
     "data": {
      "text/html": [
       "<div>\n",
       "<style scoped>\n",
       "    .dataframe tbody tr th:only-of-type {\n",
       "        vertical-align: middle;\n",
       "    }\n",
       "\n",
       "    .dataframe tbody tr th {\n",
       "        vertical-align: top;\n",
       "    }\n",
       "\n",
       "    .dataframe thead th {\n",
       "        text-align: right;\n",
       "    }\n",
       "</style>\n",
       "<table border=\"1\" class=\"dataframe\">\n",
       "  <thead>\n",
       "    <tr style=\"text-align: right;\">\n",
       "      <th></th>\n",
       "      <th>id</th>\n",
       "      <th>full_name</th>\n",
       "      <th>abbreviation</th>\n",
       "      <th>nickname</th>\n",
       "      <th>city</th>\n",
       "      <th>state</th>\n",
       "      <th>year_founded</th>\n",
       "    </tr>\n",
       "  </thead>\n",
       "  <tbody>\n",
       "    <tr>\n",
       "      <th>0</th>\n",
       "      <td>1610612737</td>\n",
       "      <td>Atlanta Hawks</td>\n",
       "      <td>ATL</td>\n",
       "      <td>Hawks</td>\n",
       "      <td>Atlanta</td>\n",
       "      <td>Atlanta</td>\n",
       "      <td>1949</td>\n",
       "    </tr>\n",
       "    <tr>\n",
       "      <th>1</th>\n",
       "      <td>1610612738</td>\n",
       "      <td>Boston Celtics</td>\n",
       "      <td>BOS</td>\n",
       "      <td>Celtics</td>\n",
       "      <td>Boston</td>\n",
       "      <td>Massachusetts</td>\n",
       "      <td>1946</td>\n",
       "    </tr>\n",
       "    <tr>\n",
       "      <th>2</th>\n",
       "      <td>1610612739</td>\n",
       "      <td>Cleveland Cavaliers</td>\n",
       "      <td>CLE</td>\n",
       "      <td>Cavaliers</td>\n",
       "      <td>Cleveland</td>\n",
       "      <td>Ohio</td>\n",
       "      <td>1970</td>\n",
       "    </tr>\n",
       "    <tr>\n",
       "      <th>3</th>\n",
       "      <td>1610612740</td>\n",
       "      <td>New Orleans Pelicans</td>\n",
       "      <td>NOP</td>\n",
       "      <td>Pelicans</td>\n",
       "      <td>New Orleans</td>\n",
       "      <td>Louisiana</td>\n",
       "      <td>2002</td>\n",
       "    </tr>\n",
       "    <tr>\n",
       "      <th>4</th>\n",
       "      <td>1610612741</td>\n",
       "      <td>Chicago Bulls</td>\n",
       "      <td>CHI</td>\n",
       "      <td>Bulls</td>\n",
       "      <td>Chicago</td>\n",
       "      <td>Illinois</td>\n",
       "      <td>1966</td>\n",
       "    </tr>\n",
       "    <tr>\n",
       "      <th>5</th>\n",
       "      <td>1610612742</td>\n",
       "      <td>Dallas Mavericks</td>\n",
       "      <td>DAL</td>\n",
       "      <td>Mavericks</td>\n",
       "      <td>Dallas</td>\n",
       "      <td>Texas</td>\n",
       "      <td>1980</td>\n",
       "    </tr>\n",
       "    <tr>\n",
       "      <th>6</th>\n",
       "      <td>1610612743</td>\n",
       "      <td>Denver Nuggets</td>\n",
       "      <td>DEN</td>\n",
       "      <td>Nuggets</td>\n",
       "      <td>Denver</td>\n",
       "      <td>Colorado</td>\n",
       "      <td>1976</td>\n",
       "    </tr>\n",
       "    <tr>\n",
       "      <th>7</th>\n",
       "      <td>1610612744</td>\n",
       "      <td>Golden State Warriors</td>\n",
       "      <td>GSW</td>\n",
       "      <td>Warriors</td>\n",
       "      <td>Golden State</td>\n",
       "      <td>California</td>\n",
       "      <td>1946</td>\n",
       "    </tr>\n",
       "    <tr>\n",
       "      <th>8</th>\n",
       "      <td>1610612745</td>\n",
       "      <td>Houston Rockets</td>\n",
       "      <td>HOU</td>\n",
       "      <td>Rockets</td>\n",
       "      <td>Houston</td>\n",
       "      <td>Texas</td>\n",
       "      <td>1967</td>\n",
       "    </tr>\n",
       "    <tr>\n",
       "      <th>9</th>\n",
       "      <td>1610612746</td>\n",
       "      <td>Los Angeles Clippers</td>\n",
       "      <td>LAC</td>\n",
       "      <td>Clippers</td>\n",
       "      <td>Los Angeles</td>\n",
       "      <td>California</td>\n",
       "      <td>1970</td>\n",
       "    </tr>\n",
       "    <tr>\n",
       "      <th>10</th>\n",
       "      <td>1610612747</td>\n",
       "      <td>Los Angeles Lakers</td>\n",
       "      <td>LAL</td>\n",
       "      <td>Lakers</td>\n",
       "      <td>Los Angeles</td>\n",
       "      <td>California</td>\n",
       "      <td>1948</td>\n",
       "    </tr>\n",
       "    <tr>\n",
       "      <th>11</th>\n",
       "      <td>1610612748</td>\n",
       "      <td>Miami Heat</td>\n",
       "      <td>MIA</td>\n",
       "      <td>Heat</td>\n",
       "      <td>Miami</td>\n",
       "      <td>Florida</td>\n",
       "      <td>1988</td>\n",
       "    </tr>\n",
       "    <tr>\n",
       "      <th>12</th>\n",
       "      <td>1610612749</td>\n",
       "      <td>Milwaukee Bucks</td>\n",
       "      <td>MIL</td>\n",
       "      <td>Bucks</td>\n",
       "      <td>Milwaukee</td>\n",
       "      <td>Wisconsin</td>\n",
       "      <td>1968</td>\n",
       "    </tr>\n",
       "    <tr>\n",
       "      <th>13</th>\n",
       "      <td>1610612750</td>\n",
       "      <td>Minnesota Timberwolves</td>\n",
       "      <td>MIN</td>\n",
       "      <td>Timberwolves</td>\n",
       "      <td>Minnesota</td>\n",
       "      <td>Minnesota</td>\n",
       "      <td>1989</td>\n",
       "    </tr>\n",
       "    <tr>\n",
       "      <th>14</th>\n",
       "      <td>1610612751</td>\n",
       "      <td>Brooklyn Nets</td>\n",
       "      <td>BKN</td>\n",
       "      <td>Nets</td>\n",
       "      <td>Brooklyn</td>\n",
       "      <td>New York</td>\n",
       "      <td>1976</td>\n",
       "    </tr>\n",
       "    <tr>\n",
       "      <th>15</th>\n",
       "      <td>1610612752</td>\n",
       "      <td>New York Knicks</td>\n",
       "      <td>NYK</td>\n",
       "      <td>Knicks</td>\n",
       "      <td>New York</td>\n",
       "      <td>New York</td>\n",
       "      <td>1946</td>\n",
       "    </tr>\n",
       "    <tr>\n",
       "      <th>16</th>\n",
       "      <td>1610612753</td>\n",
       "      <td>Orlando Magic</td>\n",
       "      <td>ORL</td>\n",
       "      <td>Magic</td>\n",
       "      <td>Orlando</td>\n",
       "      <td>Florida</td>\n",
       "      <td>1989</td>\n",
       "    </tr>\n",
       "    <tr>\n",
       "      <th>17</th>\n",
       "      <td>1610612754</td>\n",
       "      <td>Indiana Pacers</td>\n",
       "      <td>IND</td>\n",
       "      <td>Pacers</td>\n",
       "      <td>Indiana</td>\n",
       "      <td>Indiana</td>\n",
       "      <td>1976</td>\n",
       "    </tr>\n",
       "    <tr>\n",
       "      <th>18</th>\n",
       "      <td>1610612755</td>\n",
       "      <td>Philadelphia 76ers</td>\n",
       "      <td>PHI</td>\n",
       "      <td>76ers</td>\n",
       "      <td>Philadelphia</td>\n",
       "      <td>Pennsylvania</td>\n",
       "      <td>1949</td>\n",
       "    </tr>\n",
       "    <tr>\n",
       "      <th>19</th>\n",
       "      <td>1610612756</td>\n",
       "      <td>Phoenix Suns</td>\n",
       "      <td>PHX</td>\n",
       "      <td>Suns</td>\n",
       "      <td>Phoenix</td>\n",
       "      <td>Arizona</td>\n",
       "      <td>1968</td>\n",
       "    </tr>\n",
       "    <tr>\n",
       "      <th>20</th>\n",
       "      <td>1610612757</td>\n",
       "      <td>Portland Trail Blazers</td>\n",
       "      <td>POR</td>\n",
       "      <td>Trail Blazers</td>\n",
       "      <td>Portland</td>\n",
       "      <td>Oregon</td>\n",
       "      <td>1970</td>\n",
       "    </tr>\n",
       "    <tr>\n",
       "      <th>21</th>\n",
       "      <td>1610612758</td>\n",
       "      <td>Sacramento Kings</td>\n",
       "      <td>SAC</td>\n",
       "      <td>Kings</td>\n",
       "      <td>Sacramento</td>\n",
       "      <td>California</td>\n",
       "      <td>1948</td>\n",
       "    </tr>\n",
       "    <tr>\n",
       "      <th>22</th>\n",
       "      <td>1610612759</td>\n",
       "      <td>San Antonio Spurs</td>\n",
       "      <td>SAS</td>\n",
       "      <td>Spurs</td>\n",
       "      <td>San Antonio</td>\n",
       "      <td>Texas</td>\n",
       "      <td>1976</td>\n",
       "    </tr>\n",
       "    <tr>\n",
       "      <th>23</th>\n",
       "      <td>1610612760</td>\n",
       "      <td>Oklahoma City Thunder</td>\n",
       "      <td>OKC</td>\n",
       "      <td>Thunder</td>\n",
       "      <td>Oklahoma City</td>\n",
       "      <td>Oklahoma</td>\n",
       "      <td>1967</td>\n",
       "    </tr>\n",
       "    <tr>\n",
       "      <th>24</th>\n",
       "      <td>1610612761</td>\n",
       "      <td>Toronto Raptors</td>\n",
       "      <td>TOR</td>\n",
       "      <td>Raptors</td>\n",
       "      <td>Toronto</td>\n",
       "      <td>Ontario</td>\n",
       "      <td>1995</td>\n",
       "    </tr>\n",
       "    <tr>\n",
       "      <th>25</th>\n",
       "      <td>1610612762</td>\n",
       "      <td>Utah Jazz</td>\n",
       "      <td>UTA</td>\n",
       "      <td>Jazz</td>\n",
       "      <td>Utah</td>\n",
       "      <td>Utah</td>\n",
       "      <td>1974</td>\n",
       "    </tr>\n",
       "    <tr>\n",
       "      <th>26</th>\n",
       "      <td>1610612763</td>\n",
       "      <td>Memphis Grizzlies</td>\n",
       "      <td>MEM</td>\n",
       "      <td>Grizzlies</td>\n",
       "      <td>Memphis</td>\n",
       "      <td>Tennessee</td>\n",
       "      <td>1995</td>\n",
       "    </tr>\n",
       "    <tr>\n",
       "      <th>27</th>\n",
       "      <td>1610612764</td>\n",
       "      <td>Washington Wizards</td>\n",
       "      <td>WAS</td>\n",
       "      <td>Wizards</td>\n",
       "      <td>Washington</td>\n",
       "      <td>District of Columbia</td>\n",
       "      <td>1961</td>\n",
       "    </tr>\n",
       "    <tr>\n",
       "      <th>28</th>\n",
       "      <td>1610612765</td>\n",
       "      <td>Detroit Pistons</td>\n",
       "      <td>DET</td>\n",
       "      <td>Pistons</td>\n",
       "      <td>Detroit</td>\n",
       "      <td>Michigan</td>\n",
       "      <td>1948</td>\n",
       "    </tr>\n",
       "    <tr>\n",
       "      <th>29</th>\n",
       "      <td>1610612766</td>\n",
       "      <td>Charlotte Hornets</td>\n",
       "      <td>CHA</td>\n",
       "      <td>Hornets</td>\n",
       "      <td>Charlotte</td>\n",
       "      <td>North Carolina</td>\n",
       "      <td>1988</td>\n",
       "    </tr>\n",
       "  </tbody>\n",
       "</table>\n",
       "</div>"
      ],
      "text/plain": [
       "            id               full_name abbreviation       nickname  \\\n",
       "0   1610612737           Atlanta Hawks          ATL          Hawks   \n",
       "1   1610612738          Boston Celtics          BOS        Celtics   \n",
       "2   1610612739     Cleveland Cavaliers          CLE      Cavaliers   \n",
       "3   1610612740    New Orleans Pelicans          NOP       Pelicans   \n",
       "4   1610612741           Chicago Bulls          CHI          Bulls   \n",
       "5   1610612742        Dallas Mavericks          DAL      Mavericks   \n",
       "6   1610612743          Denver Nuggets          DEN        Nuggets   \n",
       "7   1610612744   Golden State Warriors          GSW       Warriors   \n",
       "8   1610612745         Houston Rockets          HOU        Rockets   \n",
       "9   1610612746    Los Angeles Clippers          LAC       Clippers   \n",
       "10  1610612747      Los Angeles Lakers          LAL         Lakers   \n",
       "11  1610612748              Miami Heat          MIA           Heat   \n",
       "12  1610612749         Milwaukee Bucks          MIL          Bucks   \n",
       "13  1610612750  Minnesota Timberwolves          MIN   Timberwolves   \n",
       "14  1610612751           Brooklyn Nets          BKN           Nets   \n",
       "15  1610612752         New York Knicks          NYK         Knicks   \n",
       "16  1610612753           Orlando Magic          ORL          Magic   \n",
       "17  1610612754          Indiana Pacers          IND         Pacers   \n",
       "18  1610612755      Philadelphia 76ers          PHI          76ers   \n",
       "19  1610612756            Phoenix Suns          PHX           Suns   \n",
       "20  1610612757  Portland Trail Blazers          POR  Trail Blazers   \n",
       "21  1610612758        Sacramento Kings          SAC          Kings   \n",
       "22  1610612759       San Antonio Spurs          SAS          Spurs   \n",
       "23  1610612760   Oklahoma City Thunder          OKC        Thunder   \n",
       "24  1610612761         Toronto Raptors          TOR        Raptors   \n",
       "25  1610612762               Utah Jazz          UTA           Jazz   \n",
       "26  1610612763       Memphis Grizzlies          MEM      Grizzlies   \n",
       "27  1610612764      Washington Wizards          WAS        Wizards   \n",
       "28  1610612765         Detroit Pistons          DET        Pistons   \n",
       "29  1610612766       Charlotte Hornets          CHA        Hornets   \n",
       "\n",
       "             city                 state  year_founded  \n",
       "0         Atlanta               Atlanta          1949  \n",
       "1          Boston         Massachusetts          1946  \n",
       "2       Cleveland                  Ohio          1970  \n",
       "3     New Orleans             Louisiana          2002  \n",
       "4         Chicago              Illinois          1966  \n",
       "5          Dallas                 Texas          1980  \n",
       "6          Denver              Colorado          1976  \n",
       "7    Golden State            California          1946  \n",
       "8         Houston                 Texas          1967  \n",
       "9     Los Angeles            California          1970  \n",
       "10    Los Angeles            California          1948  \n",
       "11          Miami               Florida          1988  \n",
       "12      Milwaukee             Wisconsin          1968  \n",
       "13      Minnesota             Minnesota          1989  \n",
       "14       Brooklyn              New York          1976  \n",
       "15       New York              New York          1946  \n",
       "16        Orlando               Florida          1989  \n",
       "17        Indiana               Indiana          1976  \n",
       "18   Philadelphia          Pennsylvania          1949  \n",
       "19        Phoenix               Arizona          1968  \n",
       "20       Portland                Oregon          1970  \n",
       "21     Sacramento            California          1948  \n",
       "22    San Antonio                 Texas          1976  \n",
       "23  Oklahoma City              Oklahoma          1967  \n",
       "24        Toronto               Ontario          1995  \n",
       "25           Utah                  Utah          1974  \n",
       "26        Memphis             Tennessee          1995  \n",
       "27     Washington  District of Columbia          1961  \n",
       "28        Detroit              Michigan          1948  \n",
       "29      Charlotte        North Carolina          1988  "
      ]
     },
     "execution_count": 133,
     "metadata": {},
     "output_type": "execute_result"
    }
   ],
   "source": [
    "# Get a dictionary of all 30 teams\n",
    "teams = teams.get_teams()\n",
    "teams_df = DataFrame(teams, columns=[\n",
    "    'id',\n",
    "    'full_name',\n",
    "    'abbreviation',\n",
    "    'nickname',\n",
    "    'city', \n",
    "    'state',\n",
    "    'year_founded'      \n",
    "])\n",
    "\n",
    "#Check the dataframe\n",
    "teams_df.head(30)"
   ]
  },
  {
   "cell_type": "code",
   "execution_count": 134,
   "metadata": {
    "ExecuteTime": {
     "end_time": "2020-08-06T04:12:40.355519Z",
     "start_time": "2020-08-06T04:12:40.332476Z"
    },
    "hidden": true
   },
   "outputs": [
    {
     "data": {
      "text/html": [
       "<div>\n",
       "<style scoped>\n",
       "    .dataframe tbody tr th:only-of-type {\n",
       "        vertical-align: middle;\n",
       "    }\n",
       "\n",
       "    .dataframe tbody tr th {\n",
       "        vertical-align: top;\n",
       "    }\n",
       "\n",
       "    .dataframe thead th {\n",
       "        text-align: right;\n",
       "    }\n",
       "</style>\n",
       "<table border=\"1\" class=\"dataframe\">\n",
       "  <thead>\n",
       "    <tr style=\"text-align: right;\">\n",
       "      <th></th>\n",
       "      <th>id</th>\n",
       "      <th>full_name</th>\n",
       "      <th>abbreviation</th>\n",
       "      <th>nickname</th>\n",
       "      <th>city</th>\n",
       "      <th>state</th>\n",
       "      <th>year_founded</th>\n",
       "    </tr>\n",
       "  </thead>\n",
       "  <tbody>\n",
       "    <tr>\n",
       "      <th>0</th>\n",
       "      <td>1610612737</td>\n",
       "      <td>Atlanta Hawks</td>\n",
       "      <td>ATL</td>\n",
       "      <td>Hawks</td>\n",
       "      <td>Atlanta</td>\n",
       "      <td>Georgia</td>\n",
       "      <td>1949</td>\n",
       "    </tr>\n",
       "    <tr>\n",
       "      <th>1</th>\n",
       "      <td>1610612738</td>\n",
       "      <td>Boston Celtics</td>\n",
       "      <td>BOS</td>\n",
       "      <td>Celtics</td>\n",
       "      <td>Boston</td>\n",
       "      <td>Massachusetts</td>\n",
       "      <td>1946</td>\n",
       "    </tr>\n",
       "    <tr>\n",
       "      <th>2</th>\n",
       "      <td>1610612739</td>\n",
       "      <td>Cleveland Cavaliers</td>\n",
       "      <td>CLE</td>\n",
       "      <td>Cavaliers</td>\n",
       "      <td>Cleveland</td>\n",
       "      <td>Ohio</td>\n",
       "      <td>1970</td>\n",
       "    </tr>\n",
       "    <tr>\n",
       "      <th>3</th>\n",
       "      <td>1610612740</td>\n",
       "      <td>New Orleans Pelicans</td>\n",
       "      <td>NOP</td>\n",
       "      <td>Pelicans</td>\n",
       "      <td>New Orleans</td>\n",
       "      <td>Louisiana</td>\n",
       "      <td>2002</td>\n",
       "    </tr>\n",
       "    <tr>\n",
       "      <th>4</th>\n",
       "      <td>1610612741</td>\n",
       "      <td>Chicago Bulls</td>\n",
       "      <td>CHI</td>\n",
       "      <td>Bulls</td>\n",
       "      <td>Chicago</td>\n",
       "      <td>Illinois</td>\n",
       "      <td>1966</td>\n",
       "    </tr>\n",
       "  </tbody>\n",
       "</table>\n",
       "</div>"
      ],
      "text/plain": [
       "           id             full_name abbreviation   nickname         city  \\\n",
       "0  1610612737         Atlanta Hawks          ATL      Hawks      Atlanta   \n",
       "1  1610612738        Boston Celtics          BOS    Celtics       Boston   \n",
       "2  1610612739   Cleveland Cavaliers          CLE  Cavaliers    Cleveland   \n",
       "3  1610612740  New Orleans Pelicans          NOP   Pelicans  New Orleans   \n",
       "4  1610612741         Chicago Bulls          CHI      Bulls      Chicago   \n",
       "\n",
       "           state  year_founded  \n",
       "0        Georgia          1949  \n",
       "1  Massachusetts          1946  \n",
       "2           Ohio          1970  \n",
       "3      Louisiana          2002  \n",
       "4       Illinois          1966  "
      ]
     },
     "execution_count": 134,
     "metadata": {},
     "output_type": "execute_result"
    }
   ],
   "source": [
    "# State was wrong for the Atlanta Hawks. Fixed. Everything else looks good. \n",
    "teams_df['state'] = teams_df['state'].replace(['Atlanta'], 'Georgia')\n",
    "teams_df.head()"
   ]
  },
  {
   "cell_type": "code",
   "execution_count": 135,
   "metadata": {
    "ExecuteTime": {
     "end_time": "2020-08-06T04:12:42.719025Z",
     "start_time": "2020-08-06T04:12:42.540509Z"
    },
    "hidden": true
   },
   "outputs": [
    {
     "data": {
      "text/plain": [
       "<matplotlib.axes._subplots.AxesSubplot at 0x1f2593e0048>"
      ]
     },
     "execution_count": 135,
     "metadata": {},
     "output_type": "execute_result"
    },
    {
     "data": {
      "image/png": "[encoded data removed]",
      "text/plain": [
       "<Figure size 460.8x403.2 with 1 Axes>"
      ]
     },
     "metadata": {},
     "output_type": "display_data"
    }
   ],
   "source": [
    "# Quick visual check to make sure loaded data makes sense. Looks accurate. \n",
    "teams_df['state'].value_counts().plot(kind='barh')"
   ]
  },
  {
   "cell_type": "code",
   "execution_count": 131,
   "metadata": {
    "ExecuteTime": {
     "end_time": "2020-08-07T09:45:23.407747Z",
     "start_time": "2020-08-07T09:45:23.356705Z"
    },
    "hidden": true
   },
   "outputs": [],
   "source": [
    "# Get a list of all players in the NBA including inactive players who played in the past seasons. \n",
    "all_players = players.get_players()\n",
    "players_df = DataFrame(all_players, columns=['id', 'full_name', 'last_name', 'is_active']) "
   ]
  },
  {
   "cell_type": "code",
   "execution_count": 137,
   "metadata": {
    "ExecuteTime": {
     "end_time": "2020-08-06T04:13:15.847067Z",
     "start_time": "2020-08-06T04:13:15.828025Z"
    },
    "hidden": true
   },
   "outputs": [
    {
     "name": "stdout",
     "output_type": "stream",
     "text": [
      "<class 'pandas.core.frame.DataFrame'>\n",
      "RangeIndex: 4501 entries, 0 to 4500\n",
      "Data columns (total 4 columns):\n",
      " #   Column     Non-Null Count  Dtype \n",
      "---  ------     --------------  ----- \n",
      " 0   id         4501 non-null   int64 \n",
      " 1   full_name  4501 non-null   object\n",
      " 2   last_name  4501 non-null   object\n",
      " 3   is_active  4501 non-null   bool  \n",
      "dtypes: bool(1), int64(1), object(2)\n",
      "memory usage: 110.0+ KB\n"
     ]
    },
    {
     "data": {
      "text/html": [
       "<div>\n",
       "<style scoped>\n",
       "    .dataframe tbody tr th:only-of-type {\n",
       "        vertical-align: middle;\n",
       "    }\n",
       "\n",
       "    .dataframe tbody tr th {\n",
       "        vertical-align: top;\n",
       "    }\n",
       "\n",
       "    .dataframe thead th {\n",
       "        text-align: right;\n",
       "    }\n",
       "</style>\n",
       "<table border=\"1\" class=\"dataframe\">\n",
       "  <thead>\n",
       "    <tr style=\"text-align: right;\">\n",
       "      <th></th>\n",
       "      <th>id</th>\n",
       "      <th>full_name</th>\n",
       "      <th>last_name</th>\n",
       "      <th>is_active</th>\n",
       "    </tr>\n",
       "  </thead>\n",
       "  <tbody>\n",
       "    <tr>\n",
       "      <th>0</th>\n",
       "      <td>76001</td>\n",
       "      <td>Alaa Abdelnaby</td>\n",
       "      <td>Abdelnaby</td>\n",
       "      <td>False</td>\n",
       "    </tr>\n",
       "    <tr>\n",
       "      <th>1</th>\n",
       "      <td>76002</td>\n",
       "      <td>Zaid Abdul-Aziz</td>\n",
       "      <td>Abdul-Aziz</td>\n",
       "      <td>False</td>\n",
       "    </tr>\n",
       "    <tr>\n",
       "      <th>2</th>\n",
       "      <td>76003</td>\n",
       "      <td>Kareem Abdul-Jabbar</td>\n",
       "      <td>Abdul-Jabbar</td>\n",
       "      <td>False</td>\n",
       "    </tr>\n",
       "    <tr>\n",
       "      <th>3</th>\n",
       "      <td>51</td>\n",
       "      <td>Mahmoud Abdul-Rauf</td>\n",
       "      <td>Abdul-Rauf</td>\n",
       "      <td>False</td>\n",
       "    </tr>\n",
       "    <tr>\n",
       "      <th>4</th>\n",
       "      <td>1505</td>\n",
       "      <td>Tariq Abdul-Wahad</td>\n",
       "      <td>Abdul-Wahad</td>\n",
       "      <td>False</td>\n",
       "    </tr>\n",
       "  </tbody>\n",
       "</table>\n",
       "</div>"
      ],
      "text/plain": [
       "      id            full_name     last_name  is_active\n",
       "0  76001       Alaa Abdelnaby     Abdelnaby      False\n",
       "1  76002      Zaid Abdul-Aziz    Abdul-Aziz      False\n",
       "2  76003  Kareem Abdul-Jabbar  Abdul-Jabbar      False\n",
       "3     51   Mahmoud Abdul-Rauf    Abdul-Rauf      False\n",
       "4   1505    Tariq Abdul-Wahad   Abdul-Wahad      False"
      ]
     },
     "execution_count": 137,
     "metadata": {},
     "output_type": "execute_result"
    }
   ],
   "source": [
    "# Check all players data regardless of whether they are active or have shots data\n",
    "print(players_df.info(), players_df.head())"
   ]
  },
  {
   "cell_type": "code",
   "execution_count": 132,
   "metadata": {
    "ExecuteTime": {
     "end_time": "2020-08-07T09:46:14.451779Z",
     "start_time": "2020-08-07T09:46:14.417778Z"
    },
    "hidden": true
   },
   "outputs": [],
   "source": [
    "players_df.to_csv(\"players.csv\", sep=\" \", header=True, index=False)  "
   ]
  },
  {
   "cell_type": "markdown",
   "metadata": {
    "heading_collapsed": true
   },
   "source": [
    "# Create ShotChart DataFrames"
   ]
  },
  {
   "cell_type": "markdown",
   "metadata": {
    "ExecuteTime": {
     "end_time": "2020-08-05T23:25:41.748690Z",
     "start_time": "2020-08-05T23:25:41.734381Z"
    },
    "hidden": true
   },
   "source": [
    "This section will include the coding done to collect data of each season separately from 2000 to 2020.  \n",
    "\n",
    "Data will be collected in 2 tables for each season. The first table df[x] includes all players data with the used columns in the visualization project.  The second table lg[x] will have an aggregate of the seasons scores and the columns as follows but not in order of importance:\n",
    "\n",
    "        ______________________________________________________________________________________________________\n",
    "        |    df[x] Column Name   |       Information      |    lg[x] Column Name    |     Information        |\n",
    "        ------------------------------------------------------------------------------------------------------\n",
    "        | 1-  PLAYER_ID          | Unique ID per player   | 1- SHOT_ZONE_BASIC      |  Shot by Zone 1        |\n",
    "        | 2-  PLAYER_NAME        | Player Name            | 2- SHOT_ZONE_AREA       |  Shot by Zone 2        |\n",
    "        | 3-  TEAM_NAME          | Team Name              | 3- SHOT_ZONE_RANGE      |  Shot by distance zone |\n",
    "        | 4-  PERIOD             | Period of the game(1-8)| 4- FGA                  |  Attempted field goals |\n",
    "        | 5-  MINUTES_REMAINING  | Minutes remaining for  | 5- FGM                  |  Scored field goals    |\n",
    "        | the game               | 6- FG_PCT              | 6- FG_PCT               | Sum of FGM / sum of FGA|\n",
    "        | 6-  SECONDS_REMAINING  | Seconds remaining for  |                         |                        |\n",
    "        |                        | the game               |                         |                        |\n",
    "        | 7-  SHOT_TYPE          | Shot type by zone      |                         |                        |\n",
    "        | 8-  SHOT_ZONE_BASIC    | Shot by Zone 1         |                         |                        |\n",
    "        | 9-  SHOT_ZONE_AREA     | Shot by Zone 2         |                         |                        |\n",
    "        | 10- SHOT_ZONE_RANGE    | Shot by distance zone  |                         |                        |\n",
    "        | 11- SHOT_DISTANCE      | Exact shot distance    |                         |                        |\n",
    "        | 12- LOC_X              | location of shot on X  |                         |                        |\n",
    "        |                        | axis                   |                         |                        |\n",
    "        | 13- LOC_Y              | location of shot on X  |                         |                        |\n",
    "        |                        | axis                   |                         |                        |\n",
    "        | 14- SHOT_ATTEMPTED_FLAG| Attempted field goals  |                         |                        | \n",
    "        | 15- SHOT_MADE_FLAG     | Scored field goals     |                         |                        |  \n",
    "        | 16- GAME_DATE          | Date of the game       |                         |                        |  \n",
    "        | 17- HTM                | Code for host team     |                         |                        |  \n",
    "        | 18- VTM                | Code for visitor team  |                         |                        |\n",
    "        ______________________________________________________________________________________________________\n",
    "        ------------------------------------------------------------------------------------------------------\n",
    "\n",
    "\n",
    "- The data includes one date column that will be converted into date type prior to using it in Tableau. Another column will be created for the season year in order to separate the seasons if needed.\n",
    "\n",
    "- Both tables will be merged on zone columns and the engineered season column."
   ]
  },
  {
   "cell_type": "markdown",
   "metadata": {
    "heading_collapsed": true,
    "hidden": true
   },
   "source": [
    "## 2019-2020"
   ]
  },
  {
   "cell_type": "code",
   "execution_count": 3,
   "metadata": {
    "ExecuteTime": {
     "end_time": "2020-08-07T03:49:29.002510Z",
     "start_time": "2020-08-07T03:49:01.951115Z"
    },
    "hidden": true
   },
   "outputs": [],
   "source": [
    "#2019-2020\n",
    "#request shooting data from NBA api endpoing ShotChartDetail\n",
    "raw20 = shotchartdetail.ShotChartDetail(\n",
    "    context_measure_simple='FGA',\n",
    "    player_id= 0,\n",
    "    team_id= 0,\n",
    "    season_nullable = '2019-20',\n",
    "    season_type_all_star = 'Regular Season',\n",
    "    last_n_games='0',\n",
    "    period='0',\n",
    "    player_position_nullable= ' ',\n",
    "    clutch_time_nullable= ' ',\n",
    "    ahead_behind_nullable = ' ',\n",
    "    outcome_nullable= ' ')\n",
    "\n",
    "#create shotchart dataframe for 2019-2020 \n",
    "df20 = raw20.get_data_frames()[0]\n",
    "\n",
    "#add Season column for future filtering in Visualization \n",
    "df20['Season'] = '2019-2020'\n",
    "\n",
    "#converting time\n",
    "df20['GAME_DATE']=pd.to_datetime(df20['GAME_DATE'])\n",
    "\n",
    "#create league zonal shooting dataframe for 2019-2020\n",
    "lg20 = raw20.get_data_frames()[1] "
   ]
  },
  {
   "cell_type": "code",
   "execution_count": 139,
   "metadata": {
    "ExecuteTime": {
     "end_time": "2020-08-06T04:13:31.176560Z",
     "start_time": "2020-08-06T04:13:31.163605Z"
    },
    "hidden": true
   },
   "outputs": [
    {
     "name": "stdout",
     "output_type": "stream",
     "text": [
      "(20, 7)\n",
      "(178962, 25)\n"
     ]
    }
   ],
   "source": [
    "print(lg20.shape)\n",
    "print(df20.shape)"
   ]
  },
  {
   "cell_type": "code",
   "execution_count": 140,
   "metadata": {
    "ExecuteTime": {
     "end_time": "2020-08-06T04:13:34.635972Z",
     "start_time": "2020-08-06T04:13:34.285574Z"
    },
    "hidden": true
   },
   "outputs": [
    {
     "name": "stdout",
     "output_type": "stream",
     "text": [
      "<class 'pandas.core.frame.DataFrame'>\n",
      "RangeIndex: 20 entries, 0 to 19\n",
      "Data columns (total 7 columns):\n",
      " #   Column           Non-Null Count  Dtype  \n",
      "---  ------           --------------  -----  \n",
      " 0   GRID_TYPE        20 non-null     object \n",
      " 1   SHOT_ZONE_BASIC  20 non-null     object \n",
      " 2   SHOT_ZONE_AREA   20 non-null     object \n",
      " 3   SHOT_ZONE_RANGE  20 non-null     object \n",
      " 4   FGA              20 non-null     int64  \n",
      " 5   FGM              20 non-null     int64  \n",
      " 6   FG_PCT           20 non-null     float64\n",
      "dtypes: float64(1), int64(2), object(4)\n",
      "memory usage: 1.2+ KB\n",
      "<class 'pandas.core.frame.DataFrame'>\n",
      "RangeIndex: 178962 entries, 0 to 178961\n",
      "Data columns (total 25 columns):\n",
      " #   Column               Non-Null Count   Dtype         \n",
      "---  ------               --------------   -----         \n",
      " 0   GRID_TYPE            178962 non-null  object        \n",
      " 1   GAME_ID              178962 non-null  object        \n",
      " 2   GAME_EVENT_ID        178962 non-null  int64         \n",
      " 3   PLAYER_ID            178962 non-null  int64         \n",
      " 4   PLAYER_NAME          178962 non-null  object        \n",
      " 5   TEAM_ID              178962 non-null  int64         \n",
      " 6   TEAM_NAME            178962 non-null  object        \n",
      " 7   PERIOD               178962 non-null  int64         \n",
      " 8   MINUTES_REMAINING    178962 non-null  int64         \n",
      " 9   SECONDS_REMAINING    178962 non-null  int64         \n",
      " 10  EVENT_TYPE           178962 non-null  object        \n",
      " 11  ACTION_TYPE          178962 non-null  object        \n",
      " 12  SHOT_TYPE            178962 non-null  object        \n",
      " 13  SHOT_ZONE_BASIC      178962 non-null  object        \n",
      " 14  SHOT_ZONE_AREA       178962 non-null  object        \n",
      " 15  SHOT_ZONE_RANGE      178962 non-null  object        \n",
      " 16  SHOT_DISTANCE        178962 non-null  int64         \n",
      " 17  LOC_X                178962 non-null  int64         \n",
      " 18  LOC_Y                178962 non-null  int64         \n",
      " 19  SHOT_ATTEMPTED_FLAG  178962 non-null  int64         \n",
      " 20  SHOT_MADE_FLAG       178962 non-null  int64         \n",
      " 21  GAME_DATE            178962 non-null  datetime64[ns]\n",
      " 22  HTM                  178962 non-null  object        \n",
      " 23  VTM                  178962 non-null  object        \n",
      " 24  Season               178962 non-null  object        \n",
      "dtypes: datetime64[ns](1), int64(11), object(13)\n",
      "memory usage: 34.1+ MB\n"
     ]
    }
   ],
   "source": [
    "lg20.info()\n",
    "df20.info()"
   ]
  },
  {
   "cell_type": "markdown",
   "metadata": {
    "heading_collapsed": true,
    "hidden": true
   },
   "source": [
    "## 2018-2019"
   ]
  },
  {
   "cell_type": "code",
   "execution_count": 4,
   "metadata": {
    "ExecuteTime": {
     "end_time": "2020-08-07T03:50:22.195570Z",
     "start_time": "2020-08-07T03:49:39.151672Z"
    },
    "hidden": true
   },
   "outputs": [],
   "source": [
    "#2018-2019\n",
    "#request shooting data from NBA api endpoing ShotChartDetail\n",
    "raw19 = shotchartdetail.ShotChartDetail(\n",
    "    context_measure_simple='FGA',\n",
    "    player_id= 0,\n",
    "    team_id= 0,\n",
    "    season_nullable = '2018-19',\n",
    "    season_type_all_star = 'Regular Season',\n",
    "    last_n_games='0',\n",
    "    period='0',\n",
    "    player_position_nullable= ' ',\n",
    "    clutch_time_nullable= ' ',\n",
    "    ahead_behind_nullable = ' ',\n",
    "    outcome_nullable= ' ')\n",
    "\n",
    "#create shotchart dataframe for 2018-2019 \n",
    "df19 = raw19.get_data_frames()[0]\n",
    "\n",
    "#add Season column for future filtering in Visualization \n",
    "df19['Season'] = '2018-2019'\n",
    "\n",
    "#converting time\n",
    "df19['GAME_DATE']=pd.to_datetime(df19['GAME_DATE'])\n",
    "\n",
    "#create league zonal shooting dataframe for 2018-2019\n",
    "lg19 = raw19.get_data_frames()[1] "
   ]
  },
  {
   "cell_type": "code",
   "execution_count": 142,
   "metadata": {
    "ExecuteTime": {
     "end_time": "2020-08-06T04:13:48.335853Z",
     "start_time": "2020-08-06T04:13:47.900570Z"
    },
    "hidden": true
   },
   "outputs": [
    {
     "name": "stdout",
     "output_type": "stream",
     "text": [
      "(20, 7)\n",
      "(219458, 25)\n",
      "<class 'pandas.core.frame.DataFrame'>\n",
      "RangeIndex: 20 entries, 0 to 19\n",
      "Data columns (total 7 columns):\n",
      " #   Column           Non-Null Count  Dtype  \n",
      "---  ------           --------------  -----  \n",
      " 0   GRID_TYPE        20 non-null     object \n",
      " 1   SHOT_ZONE_BASIC  20 non-null     object \n",
      " 2   SHOT_ZONE_AREA   20 non-null     object \n",
      " 3   SHOT_ZONE_RANGE  20 non-null     object \n",
      " 4   FGA              20 non-null     int64  \n",
      " 5   FGM              20 non-null     int64  \n",
      " 6   FG_PCT           20 non-null     float64\n",
      "dtypes: float64(1), int64(2), object(4)\n",
      "memory usage: 1.2+ KB\n",
      "<class 'pandas.core.frame.DataFrame'>\n",
      "RangeIndex: 219458 entries, 0 to 219457\n",
      "Data columns (total 25 columns):\n",
      " #   Column               Non-Null Count   Dtype         \n",
      "---  ------               --------------   -----         \n",
      " 0   GRID_TYPE            219458 non-null  object        \n",
      " 1   GAME_ID              219458 non-null  object        \n",
      " 2   GAME_EVENT_ID        219458 non-null  int64         \n",
      " 3   PLAYER_ID            219458 non-null  int64         \n",
      " 4   PLAYER_NAME          219458 non-null  object        \n",
      " 5   TEAM_ID              219458 non-null  int64         \n",
      " 6   TEAM_NAME            219458 non-null  object        \n",
      " 7   PERIOD               219458 non-null  int64         \n",
      " 8   MINUTES_REMAINING    219458 non-null  int64         \n",
      " 9   SECONDS_REMAINING    219458 non-null  int64         \n",
      " 10  EVENT_TYPE           219458 non-null  object        \n",
      " 11  ACTION_TYPE          219458 non-null  object        \n",
      " 12  SHOT_TYPE            219458 non-null  object        \n",
      " 13  SHOT_ZONE_BASIC      219458 non-null  object        \n",
      " 14  SHOT_ZONE_AREA       219458 non-null  object        \n",
      " 15  SHOT_ZONE_RANGE      219458 non-null  object        \n",
      " 16  SHOT_DISTANCE        219458 non-null  int64         \n",
      " 17  LOC_X                219458 non-null  int64         \n",
      " 18  LOC_Y                219458 non-null  int64         \n",
      " 19  SHOT_ATTEMPTED_FLAG  219458 non-null  int64         \n",
      " 20  SHOT_MADE_FLAG       219458 non-null  int64         \n",
      " 21  GAME_DATE            219458 non-null  datetime64[ns]\n",
      " 22  HTM                  219458 non-null  object        \n",
      " 23  VTM                  219458 non-null  object        \n",
      " 24  Season               219458 non-null  object        \n",
      "dtypes: datetime64[ns](1), int64(11), object(13)\n",
      "memory usage: 41.9+ MB\n"
     ]
    }
   ],
   "source": [
    "print(lg19.shape)\n",
    "print(df19.shape)\n",
    "lg19.info()\n",
    "df19.info()"
   ]
  },
  {
   "cell_type": "markdown",
   "metadata": {
    "heading_collapsed": true,
    "hidden": true
   },
   "source": [
    "## 2017-2018\n"
   ]
  },
  {
   "cell_type": "code",
   "execution_count": 143,
   "metadata": {
    "ExecuteTime": {
     "end_time": "2020-08-06T04:14:03.504105Z",
     "start_time": "2020-08-06T04:13:54.405486Z"
    },
    "hidden": true
   },
   "outputs": [],
   "source": [
    "#2017-2018\n",
    "#request shooting data from NBA api endpoing ShotChartDetail\n",
    "raw18 = shotchartdetail.ShotChartDetail(\n",
    "    context_measure_simple='FGA',\n",
    "    player_id= 0,\n",
    "    team_id= 0,\n",
    "    season_nullable = '2017-18',\n",
    "    season_type_all_star = 'Regular Season',\n",
    "    last_n_games='0',\n",
    "    period='0',\n",
    "    player_position_nullable= ' ',\n",
    "    clutch_time_nullable= ' ',\n",
    "    ahead_behind_nullable = ' ',\n",
    "    outcome_nullable= ' ')\n",
    "\n",
    "#create shotchart dataframe for 2017-2018\n",
    "df18 = raw18.get_data_frames()[0]\n",
    "\n",
    "#add Season column for future filtering in Visualization \n",
    "df18['Season'] = '2017-2018'\n",
    "\n",
    "#converting time\n",
    "df18['GAME_DATE']=pd.to_datetime(df18['GAME_DATE'])\n",
    "\n",
    "#create league zonal shooting dataframe for 2017-2018\n",
    "lg18 = raw18.get_data_frames()[1] "
   ]
  },
  {
   "cell_type": "code",
   "execution_count": 144,
   "metadata": {
    "ExecuteTime": {
     "end_time": "2020-08-06T04:14:03.929487Z",
     "start_time": "2020-08-06T04:14:03.505923Z"
    },
    "hidden": true
   },
   "outputs": [
    {
     "name": "stdout",
     "output_type": "stream",
     "text": [
      "(20, 7)\n",
      "(211707, 25)\n",
      "<class 'pandas.core.frame.DataFrame'>\n",
      "RangeIndex: 20 entries, 0 to 19\n",
      "Data columns (total 7 columns):\n",
      " #   Column           Non-Null Count  Dtype  \n",
      "---  ------           --------------  -----  \n",
      " 0   GRID_TYPE        20 non-null     object \n",
      " 1   SHOT_ZONE_BASIC  20 non-null     object \n",
      " 2   SHOT_ZONE_AREA   20 non-null     object \n",
      " 3   SHOT_ZONE_RANGE  20 non-null     object \n",
      " 4   FGA              20 non-null     int64  \n",
      " 5   FGM              20 non-null     int64  \n",
      " 6   FG_PCT           20 non-null     float64\n",
      "dtypes: float64(1), int64(2), object(4)\n",
      "memory usage: 1.2+ KB\n",
      "<class 'pandas.core.frame.DataFrame'>\n",
      "RangeIndex: 211707 entries, 0 to 211706\n",
      "Data columns (total 25 columns):\n",
      " #   Column               Non-Null Count   Dtype         \n",
      "---  ------               --------------   -----         \n",
      " 0   GRID_TYPE            211707 non-null  object        \n",
      " 1   GAME_ID              211707 non-null  object        \n",
      " 2   GAME_EVENT_ID        211707 non-null  int64         \n",
      " 3   PLAYER_ID            211707 non-null  int64         \n",
      " 4   PLAYER_NAME          211707 non-null  object        \n",
      " 5   TEAM_ID              211707 non-null  int64         \n",
      " 6   TEAM_NAME            211707 non-null  object        \n",
      " 7   PERIOD               211707 non-null  int64         \n",
      " 8   MINUTES_REMAINING    211707 non-null  int64         \n",
      " 9   SECONDS_REMAINING    211707 non-null  int64         \n",
      " 10  EVENT_TYPE           211707 non-null  object        \n",
      " 11  ACTION_TYPE          211707 non-null  object        \n",
      " 12  SHOT_TYPE            211707 non-null  object        \n",
      " 13  SHOT_ZONE_BASIC      211707 non-null  object        \n",
      " 14  SHOT_ZONE_AREA       211707 non-null  object        \n",
      " 15  SHOT_ZONE_RANGE      211707 non-null  object        \n",
      " 16  SHOT_DISTANCE        211707 non-null  int64         \n",
      " 17  LOC_X                211707 non-null  int64         \n",
      " 18  LOC_Y                211707 non-null  int64         \n",
      " 19  SHOT_ATTEMPTED_FLAG  211707 non-null  int64         \n",
      " 20  SHOT_MADE_FLAG       211707 non-null  int64         \n",
      " 21  GAME_DATE            211707 non-null  datetime64[ns]\n",
      " 22  HTM                  211707 non-null  object        \n",
      " 23  VTM                  211707 non-null  object        \n",
      " 24  Season               211707 non-null  object        \n",
      "dtypes: datetime64[ns](1), int64(11), object(13)\n",
      "memory usage: 40.4+ MB\n"
     ]
    }
   ],
   "source": [
    "print(lg18.shape)\n",
    "print(df18.shape)\n",
    "lg18.info()\n",
    "df18.info()"
   ]
  },
  {
   "cell_type": "markdown",
   "metadata": {
    "ExecuteTime": {
     "end_time": "2020-08-06T00:03:21.735030Z",
     "start_time": "2020-08-06T00:03:21.728354Z"
    },
    "heading_collapsed": true,
    "hidden": true
   },
   "source": [
    "## 2016-2017"
   ]
  },
  {
   "cell_type": "code",
   "execution_count": 145,
   "metadata": {
    "ExecuteTime": {
     "end_time": "2020-08-06T04:14:14.724031Z",
     "start_time": "2020-08-06T04:14:07.533493Z"
    },
    "hidden": true
   },
   "outputs": [],
   "source": [
    "#2016-2017\n",
    "#request shooting data from NBA api endpoing ShotChartDetail\n",
    "raw17 = shotchartdetail.ShotChartDetail(\n",
    "    context_measure_simple='FGA',\n",
    "    player_id= 0,\n",
    "    team_id= 0,\n",
    "    season_nullable = '2016-17',\n",
    "    season_type_all_star = 'Regular Season',\n",
    "    last_n_games='0',\n",
    "    period='0',\n",
    "    player_position_nullable= ' ',\n",
    "    clutch_time_nullable= ' ',\n",
    "    ahead_behind_nullable = ' ',\n",
    "    outcome_nullable= ' ')\n",
    "\n",
    "#create shotchart dataframe for 2016-2017\n",
    "df17 = raw17.get_data_frames()[0]\n",
    "\n",
    "#add Season column for future filtering in Visualization \n",
    "df17['Season'] = '2016-2017'\n",
    "\n",
    "#converting time\n",
    "df17['GAME_DATE']=pd.to_datetime(df17['GAME_DATE'])\n",
    "\n",
    "#create league zonal shooting dataframe for 2016-2017\n",
    "lg17 = raw17.get_data_frames()[1] "
   ]
  },
  {
   "cell_type": "code",
   "execution_count": 146,
   "metadata": {
    "ExecuteTime": {
     "end_time": "2020-08-06T04:14:15.149637Z",
     "start_time": "2020-08-06T04:14:14.725715Z"
    },
    "hidden": true
   },
   "outputs": [
    {
     "name": "stdout",
     "output_type": "stream",
     "text": [
      "(20, 7)\n",
      "(209929, 25)\n",
      "<class 'pandas.core.frame.DataFrame'>\n",
      "RangeIndex: 20 entries, 0 to 19\n",
      "Data columns (total 7 columns):\n",
      " #   Column           Non-Null Count  Dtype  \n",
      "---  ------           --------------  -----  \n",
      " 0   GRID_TYPE        20 non-null     object \n",
      " 1   SHOT_ZONE_BASIC  20 non-null     object \n",
      " 2   SHOT_ZONE_AREA   20 non-null     object \n",
      " 3   SHOT_ZONE_RANGE  20 non-null     object \n",
      " 4   FGA              20 non-null     int64  \n",
      " 5   FGM              20 non-null     int64  \n",
      " 6   FG_PCT           20 non-null     float64\n",
      "dtypes: float64(1), int64(2), object(4)\n",
      "memory usage: 1.2+ KB\n",
      "<class 'pandas.core.frame.DataFrame'>\n",
      "RangeIndex: 209929 entries, 0 to 209928\n",
      "Data columns (total 25 columns):\n",
      " #   Column               Non-Null Count   Dtype         \n",
      "---  ------               --------------   -----         \n",
      " 0   GRID_TYPE            209929 non-null  object        \n",
      " 1   GAME_ID              209929 non-null  object        \n",
      " 2   GAME_EVENT_ID        209929 non-null  int64         \n",
      " 3   PLAYER_ID            209929 non-null  int64         \n",
      " 4   PLAYER_NAME          209929 non-null  object        \n",
      " 5   TEAM_ID              209929 non-null  int64         \n",
      " 6   TEAM_NAME            209929 non-null  object        \n",
      " 7   PERIOD               209929 non-null  int64         \n",
      " 8   MINUTES_REMAINING    209929 non-null  int64         \n",
      " 9   SECONDS_REMAINING    209929 non-null  int64         \n",
      " 10  EVENT_TYPE           209929 non-null  object        \n",
      " 11  ACTION_TYPE          209929 non-null  object        \n",
      " 12  SHOT_TYPE            209929 non-null  object        \n",
      " 13  SHOT_ZONE_BASIC      209929 non-null  object        \n",
      " 14  SHOT_ZONE_AREA       209929 non-null  object        \n",
      " 15  SHOT_ZONE_RANGE      209929 non-null  object        \n",
      " 16  SHOT_DISTANCE        209929 non-null  int64         \n",
      " 17  LOC_X                209929 non-null  int64         \n",
      " 18  LOC_Y                209929 non-null  int64         \n",
      " 19  SHOT_ATTEMPTED_FLAG  209929 non-null  int64         \n",
      " 20  SHOT_MADE_FLAG       209929 non-null  int64         \n",
      " 21  GAME_DATE            209929 non-null  datetime64[ns]\n",
      " 22  HTM                  209929 non-null  object        \n",
      " 23  VTM                  209929 non-null  object        \n",
      " 24  Season               209929 non-null  object        \n",
      "dtypes: datetime64[ns](1), int64(11), object(13)\n",
      "memory usage: 40.0+ MB\n"
     ]
    }
   ],
   "source": [
    "print(lg17.shape)\n",
    "print(df17.shape)\n",
    "lg17.info()\n",
    "df17.info()"
   ]
  },
  {
   "cell_type": "markdown",
   "metadata": {
    "ExecuteTime": {
     "end_time": "2020-08-06T00:06:00.543798Z",
     "start_time": "2020-08-06T00:06:00.530269Z"
    },
    "heading_collapsed": true,
    "hidden": true
   },
   "source": [
    "## 2015-2016"
   ]
  },
  {
   "cell_type": "code",
   "execution_count": 148,
   "metadata": {
    "ExecuteTime": {
     "end_time": "2020-08-06T04:15:05.598857Z",
     "start_time": "2020-08-06T04:15:01.792446Z"
    },
    "hidden": true
   },
   "outputs": [],
   "source": [
    "#2015-2016\n",
    "#request shooting data from NBA api endpoing ShotChartDetail\n",
    "raw16 = shotchartdetail.ShotChartDetail(\n",
    "    context_measure_simple='FGA',\n",
    "    player_id= 0,\n",
    "    team_id= 0,\n",
    "    season_nullable = '2015-16',\n",
    "    season_type_all_star = 'Regular Season',\n",
    "    last_n_games='0',\n",
    "    period='0',\n",
    "    player_position_nullable= ' ',\n",
    "    clutch_time_nullable= ' ',\n",
    "    ahead_behind_nullable = ' ',\n",
    "    outcome_nullable= ' ')\n",
    "\n",
    "#create shotchart dataframe for 2015-2016\n",
    "df16 = raw16.get_data_frames()[0]\n",
    "\n",
    "#add Season column for future filtering in Visualization \n",
    "df16['Season'] = '2015-2016'\n",
    "\n",
    "#converting time\n",
    "df16['GAME_DATE']=pd.to_datetime(df16['GAME_DATE'])\n",
    "\n",
    "#create league zonal shooting dataframe for 2015-2016\n",
    "lg16 = raw16.get_data_frames()[1] "
   ]
  },
  {
   "cell_type": "code",
   "execution_count": 150,
   "metadata": {
    "ExecuteTime": {
     "end_time": "2020-08-06T04:15:15.825154Z",
     "start_time": "2020-08-06T04:15:15.571190Z"
    },
    "hidden": true
   },
   "outputs": [
    {
     "name": "stdout",
     "output_type": "stream",
     "text": [
      "(20, 7)\n",
      "(207893, 25)\n",
      "<class 'pandas.core.frame.DataFrame'>\n",
      "RangeIndex: 20 entries, 0 to 19\n",
      "Data columns (total 7 columns):\n",
      " #   Column           Non-Null Count  Dtype  \n",
      "---  ------           --------------  -----  \n",
      " 0   GRID_TYPE        20 non-null     object \n",
      " 1   SHOT_ZONE_BASIC  20 non-null     object \n",
      " 2   SHOT_ZONE_AREA   20 non-null     object \n",
      " 3   SHOT_ZONE_RANGE  20 non-null     object \n",
      " 4   FGA              20 non-null     int64  \n",
      " 5   FGM              20 non-null     int64  \n",
      " 6   FG_PCT           20 non-null     float64\n",
      "dtypes: float64(1), int64(2), object(4)\n",
      "memory usage: 1.2+ KB\n",
      "<class 'pandas.core.frame.DataFrame'>\n",
      "RangeIndex: 207893 entries, 0 to 207892\n",
      "Data columns (total 25 columns):\n",
      " #   Column               Non-Null Count   Dtype         \n",
      "---  ------               --------------   -----         \n",
      " 0   GRID_TYPE            207893 non-null  object        \n",
      " 1   GAME_ID              207893 non-null  object        \n",
      " 2   GAME_EVENT_ID        207893 non-null  int64         \n",
      " 3   PLAYER_ID            207893 non-null  int64         \n",
      " 4   PLAYER_NAME          207893 non-null  object        \n",
      " 5   TEAM_ID              207893 non-null  int64         \n",
      " 6   TEAM_NAME            207893 non-null  object        \n",
      " 7   PERIOD               207893 non-null  int64         \n",
      " 8   MINUTES_REMAINING    207893 non-null  int64         \n",
      " 9   SECONDS_REMAINING    207893 non-null  int64         \n",
      " 10  EVENT_TYPE           207893 non-null  object        \n",
      " 11  ACTION_TYPE          207893 non-null  object        \n",
      " 12  SHOT_TYPE            207893 non-null  object        \n",
      " 13  SHOT_ZONE_BASIC      207893 non-null  object        \n",
      " 14  SHOT_ZONE_AREA       207893 non-null  object        \n",
      " 15  SHOT_ZONE_RANGE      207893 non-null  object        \n",
      " 16  SHOT_DISTANCE        207893 non-null  int64         \n",
      " 17  LOC_X                207893 non-null  int64         \n",
      " 18  LOC_Y                207893 non-null  int64         \n",
      " 19  SHOT_ATTEMPTED_FLAG  207893 non-null  int64         \n",
      " 20  SHOT_MADE_FLAG       207893 non-null  int64         \n",
      " 21  GAME_DATE            207893 non-null  datetime64[ns]\n",
      " 22  HTM                  207893 non-null  object        \n",
      " 23  VTM                  207893 non-null  object        \n",
      " 24  Season               207893 non-null  object        \n",
      "dtypes: datetime64[ns](1), int64(11), object(13)\n",
      "memory usage: 39.7+ MB\n"
     ]
    }
   ],
   "source": [
    "print(lg16.shape)\n",
    "print(df16.shape)\n",
    "lg16.info()\n",
    "df16.info()"
   ]
  },
  {
   "cell_type": "markdown",
   "metadata": {
    "ExecuteTime": {
     "end_time": "2020-08-06T00:14:03.229438Z",
     "start_time": "2020-08-06T00:14:03.214462Z"
    },
    "heading_collapsed": true,
    "hidden": true
   },
   "source": [
    "## 2014-2015"
   ]
  },
  {
   "cell_type": "code",
   "execution_count": 151,
   "metadata": {
    "ExecuteTime": {
     "end_time": "2020-08-06T04:16:02.057705Z",
     "start_time": "2020-08-06T04:15:15.827156Z"
    },
    "hidden": true
   },
   "outputs": [],
   "source": [
    "#2014-2015\n",
    "#request shooting data from NBA api endpoing ShotChartDetail\n",
    "raw15 = shotchartdetail.ShotChartDetail(\n",
    "    context_measure_simple='FGA',\n",
    "    player_id= 0,\n",
    "    team_id= 0,\n",
    "    season_nullable = '2014-15',\n",
    "    season_type_all_star = 'Regular Season',\n",
    "    last_n_games='0',\n",
    "    period='0',\n",
    "    player_position_nullable= ' ',\n",
    "    clutch_time_nullable= ' ',\n",
    "    ahead_behind_nullable = ' ',\n",
    "    outcome_nullable= ' ')\n",
    "\n",
    "#create shotchart dataframe for 2014-2015\n",
    "df15 = raw15.get_data_frames()[0]\n",
    "\n",
    "#add Season column for future filtering in Visualization \n",
    "df15['Season'] = '2014-2015'\n",
    "\n",
    "#converting time\n",
    "df15['GAME_DATE']=pd.to_datetime(df15['GAME_DATE'])\n",
    "\n",
    "#create league zonal shooting dataframe for 2014-2015\n",
    "lg15 = raw15.get_data_frames()[1] "
   ]
  },
  {
   "cell_type": "code",
   "execution_count": 152,
   "metadata": {
    "ExecuteTime": {
     "end_time": "2020-08-06T04:16:02.481827Z",
     "start_time": "2020-08-06T04:16:02.059672Z"
    },
    "hidden": true
   },
   "outputs": [
    {
     "name": "stdout",
     "output_type": "stream",
     "text": [
      "(20, 7)\n",
      "(205550, 25)\n",
      "<class 'pandas.core.frame.DataFrame'>\n",
      "RangeIndex: 20 entries, 0 to 19\n",
      "Data columns (total 7 columns):\n",
      " #   Column           Non-Null Count  Dtype  \n",
      "---  ------           --------------  -----  \n",
      " 0   GRID_TYPE        20 non-null     object \n",
      " 1   SHOT_ZONE_BASIC  20 non-null     object \n",
      " 2   SHOT_ZONE_AREA   20 non-null     object \n",
      " 3   SHOT_ZONE_RANGE  20 non-null     object \n",
      " 4   FGA              20 non-null     int64  \n",
      " 5   FGM              20 non-null     int64  \n",
      " 6   FG_PCT           20 non-null     float64\n",
      "dtypes: float64(1), int64(2), object(4)\n",
      "memory usage: 1.2+ KB\n",
      "<class 'pandas.core.frame.DataFrame'>\n",
      "RangeIndex: 205550 entries, 0 to 205549\n",
      "Data columns (total 25 columns):\n",
      " #   Column               Non-Null Count   Dtype         \n",
      "---  ------               --------------   -----         \n",
      " 0   GRID_TYPE            205550 non-null  object        \n",
      " 1   GAME_ID              205550 non-null  object        \n",
      " 2   GAME_EVENT_ID        205550 non-null  int64         \n",
      " 3   PLAYER_ID            205550 non-null  int64         \n",
      " 4   PLAYER_NAME          205550 non-null  object        \n",
      " 5   TEAM_ID              205550 non-null  int64         \n",
      " 6   TEAM_NAME            205550 non-null  object        \n",
      " 7   PERIOD               205550 non-null  int64         \n",
      " 8   MINUTES_REMAINING    205550 non-null  int64         \n",
      " 9   SECONDS_REMAINING    205550 non-null  int64         \n",
      " 10  EVENT_TYPE           205550 non-null  object        \n",
      " 11  ACTION_TYPE          205550 non-null  object        \n",
      " 12  SHOT_TYPE            205550 non-null  object        \n",
      " 13  SHOT_ZONE_BASIC      205550 non-null  object        \n",
      " 14  SHOT_ZONE_AREA       205550 non-null  object        \n",
      " 15  SHOT_ZONE_RANGE      205550 non-null  object        \n",
      " 16  SHOT_DISTANCE        205550 non-null  int64         \n",
      " 17  LOC_X                205550 non-null  int64         \n",
      " 18  LOC_Y                205550 non-null  int64         \n",
      " 19  SHOT_ATTEMPTED_FLAG  205550 non-null  int64         \n",
      " 20  SHOT_MADE_FLAG       205550 non-null  int64         \n",
      " 21  GAME_DATE            205550 non-null  datetime64[ns]\n",
      " 22  HTM                  205550 non-null  object        \n",
      " 23  VTM                  205550 non-null  object        \n",
      " 24  Season               205550 non-null  object        \n",
      "dtypes: datetime64[ns](1), int64(11), object(13)\n",
      "memory usage: 39.2+ MB\n"
     ]
    }
   ],
   "source": [
    "print(lg15.shape)\n",
    "print(df15.shape)\n",
    "lg15.info()\n",
    "df15.info()"
   ]
  },
  {
   "cell_type": "markdown",
   "metadata": {
    "heading_collapsed": true,
    "hidden": true
   },
   "source": [
    "## 2013-2014"
   ]
  },
  {
   "cell_type": "code",
   "execution_count": 153,
   "metadata": {
    "ExecuteTime": {
     "end_time": "2020-08-06T04:16:49.689958Z",
     "start_time": "2020-08-06T04:16:02.483500Z"
    },
    "hidden": true
   },
   "outputs": [
    {
     "name": "stdout",
     "output_type": "stream",
     "text": [
      "(20, 7)\n",
      "(204126, 25)\n",
      "<class 'pandas.core.frame.DataFrame'>\n",
      "RangeIndex: 20 entries, 0 to 19\n",
      "Data columns (total 7 columns):\n",
      " #   Column           Non-Null Count  Dtype  \n",
      "---  ------           --------------  -----  \n",
      " 0   GRID_TYPE        20 non-null     object \n",
      " 1   SHOT_ZONE_BASIC  20 non-null     object \n",
      " 2   SHOT_ZONE_AREA   20 non-null     object \n",
      " 3   SHOT_ZONE_RANGE  20 non-null     object \n",
      " 4   FGA              20 non-null     int64  \n",
      " 5   FGM              20 non-null     int64  \n",
      " 6   FG_PCT           20 non-null     float64\n",
      "dtypes: float64(1), int64(2), object(4)\n",
      "memory usage: 1.2+ KB\n",
      "<class 'pandas.core.frame.DataFrame'>\n",
      "RangeIndex: 204126 entries, 0 to 204125\n",
      "Data columns (total 25 columns):\n",
      " #   Column               Non-Null Count   Dtype         \n",
      "---  ------               --------------   -----         \n",
      " 0   GRID_TYPE            204126 non-null  object        \n",
      " 1   GAME_ID              204126 non-null  object        \n",
      " 2   GAME_EVENT_ID        204126 non-null  int64         \n",
      " 3   PLAYER_ID            204126 non-null  int64         \n",
      " 4   PLAYER_NAME          204126 non-null  object        \n",
      " 5   TEAM_ID              204126 non-null  int64         \n",
      " 6   TEAM_NAME            204126 non-null  object        \n",
      " 7   PERIOD               204126 non-null  int64         \n",
      " 8   MINUTES_REMAINING    204126 non-null  int64         \n",
      " 9   SECONDS_REMAINING    204126 non-null  int64         \n",
      " 10  EVENT_TYPE           204126 non-null  object        \n",
      " 11  ACTION_TYPE          204126 non-null  object        \n",
      " 12  SHOT_TYPE            204126 non-null  object        \n",
      " 13  SHOT_ZONE_BASIC      204126 non-null  object        \n",
      " 14  SHOT_ZONE_AREA       204126 non-null  object        \n",
      " 15  SHOT_ZONE_RANGE      204126 non-null  object        \n",
      " 16  SHOT_DISTANCE        204126 non-null  int64         \n",
      " 17  LOC_X                204126 non-null  int64         \n",
      " 18  LOC_Y                204126 non-null  int64         \n",
      " 19  SHOT_ATTEMPTED_FLAG  204126 non-null  int64         \n",
      " 20  SHOT_MADE_FLAG       204126 non-null  int64         \n",
      " 21  GAME_DATE            204126 non-null  datetime64[ns]\n",
      " 22  HTM                  204126 non-null  object        \n",
      " 23  VTM                  204126 non-null  object        \n",
      " 24  Season               204126 non-null  object        \n",
      "dtypes: datetime64[ns](1), int64(11), object(13)\n",
      "memory usage: 38.9+ MB\n"
     ]
    }
   ],
   "source": [
    "raw14 = shotchartdetail.ShotChartDetail(\n",
    "    context_measure_simple='FGA',\n",
    "    player_id= 0,\n",
    "    team_id= 0,\n",
    "    season_nullable = '2013-14',\n",
    "    season_type_all_star = 'Regular Season',\n",
    "    last_n_games='0',\n",
    "    period='0',\n",
    "    player_position_nullable= ' ',\n",
    "    clutch_time_nullable= ' ',\n",
    "    ahead_behind_nullable = ' ',\n",
    "    outcome_nullable= ' ')\n",
    "\n",
    "df14 = raw14.get_data_frames()[0]\n",
    "df14['Season'] = '2013-2014'\n",
    "df14['GAME_DATE']=pd.to_datetime(df14['GAME_DATE'])\n",
    "\n",
    "lg14 = raw14.get_data_frames()[1] \n",
    "\n",
    "print(lg14.shape)\n",
    "print(df14.shape)\n",
    "lg14.info()\n",
    "df14.info()"
   ]
  },
  {
   "cell_type": "markdown",
   "metadata": {
    "heading_collapsed": true,
    "hidden": true
   },
   "source": [
    "## 2012-2013"
   ]
  },
  {
   "cell_type": "code",
   "execution_count": 154,
   "metadata": {
    "ExecuteTime": {
     "end_time": "2020-08-06T04:17:45.596143Z",
     "start_time": "2020-08-06T04:16:49.691640Z"
    },
    "hidden": true
   },
   "outputs": [
    {
     "name": "stdout",
     "output_type": "stream",
     "text": [
      "(20, 7)\n",
      "(201579, 25)\n",
      "<class 'pandas.core.frame.DataFrame'>\n",
      "RangeIndex: 20 entries, 0 to 19\n",
      "Data columns (total 7 columns):\n",
      " #   Column           Non-Null Count  Dtype  \n",
      "---  ------           --------------  -----  \n",
      " 0   GRID_TYPE        20 non-null     object \n",
      " 1   SHOT_ZONE_BASIC  20 non-null     object \n",
      " 2   SHOT_ZONE_AREA   20 non-null     object \n",
      " 3   SHOT_ZONE_RANGE  20 non-null     object \n",
      " 4   FGA              20 non-null     int64  \n",
      " 5   FGM              20 non-null     int64  \n",
      " 6   FG_PCT           20 non-null     float64\n",
      "dtypes: float64(1), int64(2), object(4)\n",
      "memory usage: 1.2+ KB\n",
      "<class 'pandas.core.frame.DataFrame'>\n",
      "RangeIndex: 201579 entries, 0 to 201578\n",
      "Data columns (total 25 columns):\n",
      " #   Column               Non-Null Count   Dtype         \n",
      "---  ------               --------------   -----         \n",
      " 0   GRID_TYPE            201579 non-null  object        \n",
      " 1   GAME_ID              201579 non-null  object        \n",
      " 2   GAME_EVENT_ID        201579 non-null  int64         \n",
      " 3   PLAYER_ID            201579 non-null  int64         \n",
      " 4   PLAYER_NAME          201579 non-null  object        \n",
      " 5   TEAM_ID              201579 non-null  int64         \n",
      " 6   TEAM_NAME            201579 non-null  object        \n",
      " 7   PERIOD               201579 non-null  int64         \n",
      " 8   MINUTES_REMAINING    201579 non-null  int64         \n",
      " 9   SECONDS_REMAINING    201579 non-null  int64         \n",
      " 10  EVENT_TYPE           201579 non-null  object        \n",
      " 11  ACTION_TYPE          201579 non-null  object        \n",
      " 12  SHOT_TYPE            201579 non-null  object        \n",
      " 13  SHOT_ZONE_BASIC      201579 non-null  object        \n",
      " 14  SHOT_ZONE_AREA       201579 non-null  object        \n",
      " 15  SHOT_ZONE_RANGE      201579 non-null  object        \n",
      " 16  SHOT_DISTANCE        201579 non-null  int64         \n",
      " 17  LOC_X                201579 non-null  int64         \n",
      " 18  LOC_Y                201579 non-null  int64         \n",
      " 19  SHOT_ATTEMPTED_FLAG  201579 non-null  int64         \n",
      " 20  SHOT_MADE_FLAG       201579 non-null  int64         \n",
      " 21  GAME_DATE            201579 non-null  datetime64[ns]\n",
      " 22  HTM                  201579 non-null  object        \n",
      " 23  VTM                  201579 non-null  object        \n",
      " 24  Season               201579 non-null  object        \n",
      "dtypes: datetime64[ns](1), int64(11), object(13)\n",
      "memory usage: 38.4+ MB\n"
     ]
    }
   ],
   "source": [
    "raw13 = shotchartdetail.ShotChartDetail(\n",
    "    context_measure_simple='FGA',\n",
    "    player_id= 0,\n",
    "    team_id= 0,\n",
    "    season_nullable = '2012-13',\n",
    "    season_type_all_star = 'Regular Season',\n",
    "    last_n_games='0',\n",
    "    period='0',\n",
    "    player_position_nullable= ' ',\n",
    "    clutch_time_nullable= ' ',\n",
    "    ahead_behind_nullable = ' ',\n",
    "    outcome_nullable= ' ')\n",
    "\n",
    "df13 = raw13.get_data_frames()[0]\n",
    "df13['Season'] = '2012-2013'\n",
    "df13['GAME_DATE']=pd.to_datetime(df13['GAME_DATE'])\n",
    "\n",
    "lg13 = raw13.get_data_frames()[1] \n",
    "\n",
    "print(lg13.shape)\n",
    "print(df13.shape)\n",
    "lg13.info()\n",
    "df13.info()"
   ]
  },
  {
   "cell_type": "markdown",
   "metadata": {
    "heading_collapsed": true,
    "hidden": true
   },
   "source": [
    "## 2011-2012"
   ]
  },
  {
   "cell_type": "code",
   "execution_count": 155,
   "metadata": {
    "ExecuteTime": {
     "end_time": "2020-08-06T04:18:22.033169Z",
     "start_time": "2020-08-06T04:17:45.597142Z"
    },
    "hidden": true
   },
   "outputs": [
    {
     "name": "stdout",
     "output_type": "stream",
     "text": [
      "(161205, 25)\n",
      "(20, 7)\n",
      "<class 'pandas.core.frame.DataFrame'>\n",
      "RangeIndex: 20 entries, 0 to 19\n",
      "Data columns (total 7 columns):\n",
      " #   Column           Non-Null Count  Dtype  \n",
      "---  ------           --------------  -----  \n",
      " 0   GRID_TYPE        20 non-null     object \n",
      " 1   SHOT_ZONE_BASIC  20 non-null     object \n",
      " 2   SHOT_ZONE_AREA   20 non-null     object \n",
      " 3   SHOT_ZONE_RANGE  20 non-null     object \n",
      " 4   FGA              20 non-null     int64  \n",
      " 5   FGM              20 non-null     int64  \n",
      " 6   FG_PCT           20 non-null     float64\n",
      "dtypes: float64(1), int64(2), object(4)\n",
      "memory usage: 1.2+ KB\n",
      "<class 'pandas.core.frame.DataFrame'>\n",
      "RangeIndex: 161205 entries, 0 to 161204\n",
      "Data columns (total 25 columns):\n",
      " #   Column               Non-Null Count   Dtype         \n",
      "---  ------               --------------   -----         \n",
      " 0   GRID_TYPE            161205 non-null  object        \n",
      " 1   GAME_ID              161205 non-null  object        \n",
      " 2   GAME_EVENT_ID        161205 non-null  int64         \n",
      " 3   PLAYER_ID            161205 non-null  int64         \n",
      " 4   PLAYER_NAME          161205 non-null  object        \n",
      " 5   TEAM_ID              161205 non-null  int64         \n",
      " 6   TEAM_NAME            161205 non-null  object        \n",
      " 7   PERIOD               161205 non-null  int64         \n",
      " 8   MINUTES_REMAINING    161205 non-null  int64         \n",
      " 9   SECONDS_REMAINING    161205 non-null  int64         \n",
      " 10  EVENT_TYPE           161205 non-null  object        \n",
      " 11  ACTION_TYPE          161205 non-null  object        \n",
      " 12  SHOT_TYPE            161205 non-null  object        \n",
      " 13  SHOT_ZONE_BASIC      161205 non-null  object        \n",
      " 14  SHOT_ZONE_AREA       161205 non-null  object        \n",
      " 15  SHOT_ZONE_RANGE      161205 non-null  object        \n",
      " 16  SHOT_DISTANCE        161205 non-null  int64         \n",
      " 17  LOC_X                161205 non-null  int64         \n",
      " 18  LOC_Y                161205 non-null  int64         \n",
      " 19  SHOT_ATTEMPTED_FLAG  161205 non-null  int64         \n",
      " 20  SHOT_MADE_FLAG       161205 non-null  int64         \n",
      " 21  GAME_DATE            161205 non-null  datetime64[ns]\n",
      " 22  HTM                  161205 non-null  object        \n",
      " 23  VTM                  161205 non-null  object        \n",
      " 24  Season               161205 non-null  object        \n",
      "dtypes: datetime64[ns](1), int64(11), object(13)\n",
      "memory usage: 30.7+ MB\n"
     ]
    }
   ],
   "source": [
    "raw12 = shotchartdetail.ShotChartDetail(\n",
    "    context_measure_simple='FGA',\n",
    "    player_id= 0,\n",
    "    team_id= 0,\n",
    "    season_nullable = '2011-12',\n",
    "    season_type_all_star = 'Regular Season',\n",
    "    last_n_games='0',\n",
    "    period='0',\n",
    "    player_position_nullable= ' ',\n",
    "    clutch_time_nullable= ' ',\n",
    "    ahead_behind_nullable = ' ',\n",
    "    outcome_nullable= ' ')\n",
    "\n",
    "df12 = raw12.get_data_frames()[0]\n",
    "df12['Season'] = '2011-2012'\n",
    "df12['GAME_DATE']=pd.to_datetime(df12['GAME_DATE'])\n",
    "\n",
    "lg12 = raw12.get_data_frames()[1] \n",
    "\n",
    "print(df12.shape)\n",
    "print(lg12.shape)\n",
    "lg12.info()\n",
    "df12.info()"
   ]
  },
  {
   "cell_type": "markdown",
   "metadata": {
    "heading_collapsed": true,
    "hidden": true
   },
   "source": [
    "## 2010-2011"
   ]
  },
  {
   "cell_type": "code",
   "execution_count": 156,
   "metadata": {
    "ExecuteTime": {
     "end_time": "2020-08-06T04:19:10.591635Z",
     "start_time": "2020-08-06T04:18:22.035211Z"
    },
    "hidden": true
   },
   "outputs": [
    {
     "name": "stdout",
     "output_type": "stream",
     "text": [
      "(199761, 25)\n",
      "(20, 7)\n",
      "<class 'pandas.core.frame.DataFrame'>\n",
      "RangeIndex: 199761 entries, 0 to 199760\n",
      "Data columns (total 25 columns):\n",
      " #   Column               Non-Null Count   Dtype         \n",
      "---  ------               --------------   -----         \n",
      " 0   GRID_TYPE            199761 non-null  object        \n",
      " 1   GAME_ID              199761 non-null  object        \n",
      " 2   GAME_EVENT_ID        199761 non-null  int64         \n",
      " 3   PLAYER_ID            199761 non-null  int64         \n",
      " 4   PLAYER_NAME          199761 non-null  object        \n",
      " 5   TEAM_ID              199761 non-null  int64         \n",
      " 6   TEAM_NAME            199761 non-null  object        \n",
      " 7   PERIOD               199761 non-null  int64         \n",
      " 8   MINUTES_REMAINING    199761 non-null  int64         \n",
      " 9   SECONDS_REMAINING    199761 non-null  int64         \n",
      " 10  EVENT_TYPE           199761 non-null  object        \n",
      " 11  ACTION_TYPE          199761 non-null  object        \n",
      " 12  SHOT_TYPE            199761 non-null  object        \n",
      " 13  SHOT_ZONE_BASIC      199761 non-null  object        \n",
      " 14  SHOT_ZONE_AREA       199761 non-null  object        \n",
      " 15  SHOT_ZONE_RANGE      199761 non-null  object        \n",
      " 16  SHOT_DISTANCE        199761 non-null  int64         \n",
      " 17  LOC_X                199761 non-null  int64         \n",
      " 18  LOC_Y                199761 non-null  int64         \n",
      " 19  SHOT_ATTEMPTED_FLAG  199761 non-null  int64         \n",
      " 20  SHOT_MADE_FLAG       199761 non-null  int64         \n",
      " 21  GAME_DATE            199761 non-null  datetime64[ns]\n",
      " 22  HTM                  199761 non-null  object        \n",
      " 23  VTM                  199761 non-null  object        \n",
      " 24  Season               199761 non-null  object        \n",
      "dtypes: datetime64[ns](1), int64(11), object(13)\n",
      "memory usage: 38.1+ MB\n",
      "<class 'pandas.core.frame.DataFrame'>\n",
      "RangeIndex: 20 entries, 0 to 19\n",
      "Data columns (total 7 columns):\n",
      " #   Column           Non-Null Count  Dtype  \n",
      "---  ------           --------------  -----  \n",
      " 0   GRID_TYPE        20 non-null     object \n",
      " 1   SHOT_ZONE_BASIC  20 non-null     object \n",
      " 2   SHOT_ZONE_AREA   20 non-null     object \n",
      " 3   SHOT_ZONE_RANGE  20 non-null     object \n",
      " 4   FGA              20 non-null     int64  \n",
      " 5   FGM              20 non-null     int64  \n",
      " 6   FG_PCT           20 non-null     float64\n",
      "dtypes: float64(1), int64(2), object(4)\n",
      "memory usage: 1.2+ KB\n"
     ]
    }
   ],
   "source": [
    "raw11 = shotchartdetail.ShotChartDetail(\n",
    "    context_measure_simple='FGA',\n",
    "    player_id= 0,\n",
    "    team_id= 0,\n",
    "    season_nullable = '2010-11',\n",
    "    season_type_all_star = 'Regular Season',\n",
    "    last_n_games='0',\n",
    "    period='0',\n",
    "    player_position_nullable= ' ',\n",
    "    clutch_time_nullable= ' ',\n",
    "    ahead_behind_nullable = ' ',\n",
    "    outcome_nullable= ' ')\n",
    "\n",
    "df11 = raw11.get_data_frames()[0]\n",
    "df11['Season'] = '2010-2011'\n",
    "df11['GAME_DATE']=pd.to_datetime(df11['GAME_DATE'])\n",
    "\n",
    "lg11 = raw11.get_data_frames()[1] \n",
    "\n",
    "print(df11.shape)\n",
    "print(lg11.shape)\n",
    "df11.info()\n",
    "lg11.info()"
   ]
  },
  {
   "cell_type": "markdown",
   "metadata": {
    "heading_collapsed": true,
    "hidden": true
   },
   "source": [
    "## 2009-2010"
   ]
  },
  {
   "cell_type": "code",
   "execution_count": 157,
   "metadata": {
    "ExecuteTime": {
     "end_time": "2020-08-06T04:20:02.337434Z",
     "start_time": "2020-08-06T04:19:10.594553Z"
    },
    "hidden": true
   },
   "outputs": [
    {
     "name": "stdout",
     "output_type": "stream",
     "text": [
      "(200966, 25)\n",
      "(20, 7)\n",
      "<class 'pandas.core.frame.DataFrame'>\n",
      "RangeIndex: 200966 entries, 0 to 200965\n",
      "Data columns (total 25 columns):\n",
      " #   Column               Non-Null Count   Dtype         \n",
      "---  ------               --------------   -----         \n",
      " 0   GRID_TYPE            200966 non-null  object        \n",
      " 1   GAME_ID              200966 non-null  object        \n",
      " 2   GAME_EVENT_ID        200966 non-null  int64         \n",
      " 3   PLAYER_ID            200966 non-null  int64         \n",
      " 4   PLAYER_NAME          200966 non-null  object        \n",
      " 5   TEAM_ID              200966 non-null  int64         \n",
      " 6   TEAM_NAME            200966 non-null  object        \n",
      " 7   PERIOD               200966 non-null  int64         \n",
      " 8   MINUTES_REMAINING    200966 non-null  int64         \n",
      " 9   SECONDS_REMAINING    200966 non-null  int64         \n",
      " 10  EVENT_TYPE           200966 non-null  object        \n",
      " 11  ACTION_TYPE          200966 non-null  object        \n",
      " 12  SHOT_TYPE            200966 non-null  object        \n",
      " 13  SHOT_ZONE_BASIC      200966 non-null  object        \n",
      " 14  SHOT_ZONE_AREA       200966 non-null  object        \n",
      " 15  SHOT_ZONE_RANGE      200966 non-null  object        \n",
      " 16  SHOT_DISTANCE        200966 non-null  int64         \n",
      " 17  LOC_X                200966 non-null  int64         \n",
      " 18  LOC_Y                200966 non-null  int64         \n",
      " 19  SHOT_ATTEMPTED_FLAG  200966 non-null  int64         \n",
      " 20  SHOT_MADE_FLAG       200966 non-null  int64         \n",
      " 21  GAME_DATE            200966 non-null  datetime64[ns]\n",
      " 22  HTM                  200966 non-null  object        \n",
      " 23  VTM                  200966 non-null  object        \n",
      " 24  Season               200966 non-null  object        \n",
      "dtypes: datetime64[ns](1), int64(11), object(13)\n",
      "memory usage: 38.3+ MB\n",
      "<class 'pandas.core.frame.DataFrame'>\n",
      "RangeIndex: 20 entries, 0 to 19\n",
      "Data columns (total 7 columns):\n",
      " #   Column           Non-Null Count  Dtype  \n",
      "---  ------           --------------  -----  \n",
      " 0   GRID_TYPE        20 non-null     object \n",
      " 1   SHOT_ZONE_BASIC  20 non-null     object \n",
      " 2   SHOT_ZONE_AREA   20 non-null     object \n",
      " 3   SHOT_ZONE_RANGE  20 non-null     object \n",
      " 4   FGA              20 non-null     int64  \n",
      " 5   FGM              20 non-null     int64  \n",
      " 6   FG_PCT           20 non-null     float64\n",
      "dtypes: float64(1), int64(2), object(4)\n",
      "memory usage: 1.2+ KB\n"
     ]
    }
   ],
   "source": [
    "raw10 = shotchartdetail.ShotChartDetail(\n",
    "    context_measure_simple='FGA',\n",
    "    player_id= 0,\n",
    "    team_id= 0,\n",
    "    season_nullable = '2009-10',\n",
    "    season_type_all_star = 'Regular Season',\n",
    "    last_n_games='0',\n",
    "    period='0',\n",
    "    player_position_nullable= ' ',\n",
    "    clutch_time_nullable= ' ',\n",
    "    ahead_behind_nullable = ' ',\n",
    "    outcome_nullable= ' ')\n",
    "\n",
    "df10 = raw10.get_data_frames()[0]\n",
    "df10['Season'] = '2009-2010'\n",
    "df10['GAME_DATE']=pd.to_datetime(df10['GAME_DATE'])\n",
    "\n",
    "lg10 = raw10.get_data_frames()[1] \n",
    "\n",
    "print(df10.shape)\n",
    "print(lg10.shape)\n",
    "df10.info()\n",
    "lg10.info()"
   ]
  },
  {
   "cell_type": "markdown",
   "metadata": {
    "heading_collapsed": true,
    "hidden": true
   },
   "source": [
    "## 2008-2009"
   ]
  },
  {
   "cell_type": "code",
   "execution_count": 158,
   "metadata": {
    "ExecuteTime": {
     "end_time": "2020-08-06T04:20:48.223855Z",
     "start_time": "2020-08-06T04:20:02.339377Z"
    },
    "hidden": true
   },
   "outputs": [
    {
     "name": "stdout",
     "output_type": "stream",
     "text": [
      "(199030, 25)\n",
      "(20, 7)\n",
      "<class 'pandas.core.frame.DataFrame'>\n",
      "RangeIndex: 199030 entries, 0 to 199029\n",
      "Data columns (total 25 columns):\n",
      " #   Column               Non-Null Count   Dtype         \n",
      "---  ------               --------------   -----         \n",
      " 0   GRID_TYPE            199030 non-null  object        \n",
      " 1   GAME_ID              199030 non-null  object        \n",
      " 2   GAME_EVENT_ID        199030 non-null  int64         \n",
      " 3   PLAYER_ID            199030 non-null  int64         \n",
      " 4   PLAYER_NAME          199030 non-null  object        \n",
      " 5   TEAM_ID              199030 non-null  int64         \n",
      " 6   TEAM_NAME            199030 non-null  object        \n",
      " 7   PERIOD               199030 non-null  int64         \n",
      " 8   MINUTES_REMAINING    199030 non-null  int64         \n",
      " 9   SECONDS_REMAINING    199030 non-null  int64         \n",
      " 10  EVENT_TYPE           199030 non-null  object        \n",
      " 11  ACTION_TYPE          199030 non-null  object        \n",
      " 12  SHOT_TYPE            199030 non-null  object        \n",
      " 13  SHOT_ZONE_BASIC      199030 non-null  object        \n",
      " 14  SHOT_ZONE_AREA       199030 non-null  object        \n",
      " 15  SHOT_ZONE_RANGE      199030 non-null  object        \n",
      " 16  SHOT_DISTANCE        199030 non-null  int64         \n",
      " 17  LOC_X                199030 non-null  int64         \n",
      " 18  LOC_Y                199030 non-null  int64         \n",
      " 19  SHOT_ATTEMPTED_FLAG  199030 non-null  int64         \n",
      " 20  SHOT_MADE_FLAG       199030 non-null  int64         \n",
      " 21  GAME_DATE            199030 non-null  datetime64[ns]\n",
      " 22  HTM                  199030 non-null  object        \n",
      " 23  VTM                  199030 non-null  object        \n",
      " 24  Season               199030 non-null  object        \n",
      "dtypes: datetime64[ns](1), int64(11), object(13)\n",
      "memory usage: 38.0+ MB\n",
      "<class 'pandas.core.frame.DataFrame'>\n",
      "RangeIndex: 20 entries, 0 to 19\n",
      "Data columns (total 7 columns):\n",
      " #   Column           Non-Null Count  Dtype  \n",
      "---  ------           --------------  -----  \n",
      " 0   GRID_TYPE        20 non-null     object \n",
      " 1   SHOT_ZONE_BASIC  20 non-null     object \n",
      " 2   SHOT_ZONE_AREA   20 non-null     object \n",
      " 3   SHOT_ZONE_RANGE  20 non-null     object \n",
      " 4   FGA              20 non-null     int64  \n",
      " 5   FGM              20 non-null     int64  \n",
      " 6   FG_PCT           20 non-null     float64\n",
      "dtypes: float64(1), int64(2), object(4)\n",
      "memory usage: 1.2+ KB\n"
     ]
    }
   ],
   "source": [
    "raw09 = shotchartdetail.ShotChartDetail(\n",
    "    context_measure_simple='FGA',\n",
    "    player_id= 0,\n",
    "    team_id= 0,\n",
    "    season_nullable = '2008-09',\n",
    "    season_type_all_star = 'Regular Season',\n",
    "    last_n_games='0',\n",
    "    period='0',\n",
    "    player_position_nullable= ' ',\n",
    "    clutch_time_nullable= ' ',\n",
    "    ahead_behind_nullable = ' ',\n",
    "    outcome_nullable= ' ')\n",
    "\n",
    "df09 = raw09.get_data_frames()[0]\n",
    "df09['Season'] = '2008-2009'\n",
    "df09['GAME_DATE']=pd.to_datetime(df09['GAME_DATE'])\n",
    "\n",
    "lg09 = raw09.get_data_frames()[1] \n",
    "\n",
    "print(df09.shape)\n",
    "print(lg09.shape)\n",
    "df09.info()\n",
    "lg09.info()"
   ]
  },
  {
   "cell_type": "markdown",
   "metadata": {
    "heading_collapsed": true,
    "hidden": true
   },
   "source": [
    "## 2007-2008"
   ]
  },
  {
   "cell_type": "code",
   "execution_count": 159,
   "metadata": {
    "ExecuteTime": {
     "end_time": "2020-08-06T04:21:40.878055Z",
     "start_time": "2020-08-06T04:20:48.224795Z"
    },
    "hidden": true
   },
   "outputs": [
    {
     "name": "stdout",
     "output_type": "stream",
     "text": [
      "<class 'pandas.core.frame.DataFrame'>\n",
      "RangeIndex: 200501 entries, 0 to 200500\n",
      "Data columns (total 25 columns):\n",
      " #   Column               Non-Null Count   Dtype         \n",
      "---  ------               --------------   -----         \n",
      " 0   GRID_TYPE            200501 non-null  object        \n",
      " 1   GAME_ID              200501 non-null  object        \n",
      " 2   GAME_EVENT_ID        200501 non-null  int64         \n",
      " 3   PLAYER_ID            200501 non-null  int64         \n",
      " 4   PLAYER_NAME          200501 non-null  object        \n",
      " 5   TEAM_ID              200501 non-null  int64         \n",
      " 6   TEAM_NAME            200501 non-null  object        \n",
      " 7   PERIOD               200501 non-null  int64         \n",
      " 8   MINUTES_REMAINING    200501 non-null  int64         \n",
      " 9   SECONDS_REMAINING    200501 non-null  int64         \n",
      " 10  EVENT_TYPE           200501 non-null  object        \n",
      " 11  ACTION_TYPE          200501 non-null  object        \n",
      " 12  SHOT_TYPE            200501 non-null  object        \n",
      " 13  SHOT_ZONE_BASIC      200501 non-null  object        \n",
      " 14  SHOT_ZONE_AREA       200501 non-null  object        \n",
      " 15  SHOT_ZONE_RANGE      200501 non-null  object        \n",
      " 16  SHOT_DISTANCE        200501 non-null  int64         \n",
      " 17  LOC_X                200501 non-null  int64         \n",
      " 18  LOC_Y                200501 non-null  int64         \n",
      " 19  SHOT_ATTEMPTED_FLAG  200501 non-null  int64         \n",
      " 20  SHOT_MADE_FLAG       200501 non-null  int64         \n",
      " 21  GAME_DATE            200501 non-null  datetime64[ns]\n",
      " 22  HTM                  200501 non-null  object        \n",
      " 23  VTM                  200501 non-null  object        \n",
      " 24  Season               200501 non-null  object        \n",
      "dtypes: datetime64[ns](1), int64(11), object(13)\n",
      "memory usage: 38.2+ MB\n",
      "<class 'pandas.core.frame.DataFrame'>\n",
      "RangeIndex: 20 entries, 0 to 19\n",
      "Data columns (total 7 columns):\n",
      " #   Column           Non-Null Count  Dtype  \n",
      "---  ------           --------------  -----  \n",
      " 0   GRID_TYPE        20 non-null     object \n",
      " 1   SHOT_ZONE_BASIC  20 non-null     object \n",
      " 2   SHOT_ZONE_AREA   20 non-null     object \n",
      " 3   SHOT_ZONE_RANGE  20 non-null     object \n",
      " 4   FGA              20 non-null     int64  \n",
      " 5   FGM              20 non-null     int64  \n",
      " 6   FG_PCT           20 non-null     float64\n",
      "dtypes: float64(1), int64(2), object(4)\n",
      "memory usage: 1.2+ KB\n"
     ]
    }
   ],
   "source": [
    "raw08 = shotchartdetail.ShotChartDetail(\n",
    "    context_measure_simple='FGA',\n",
    "    player_id= 0,\n",
    "    team_id= 0,\n",
    "    season_nullable = '2007-08',\n",
    "    season_type_all_star = 'Regular Season',\n",
    "    last_n_games='0',\n",
    "    period='0',\n",
    "    player_position_nullable= ' ',\n",
    "    clutch_time_nullable= ' ',\n",
    "    ahead_behind_nullable = ' ',\n",
    "    outcome_nullable= ' ')\n",
    "\n",
    "df08 = raw08.get_data_frames()[0]\n",
    "df08['Season'] = '2007-2008'\n",
    "df08['GAME_DATE']=pd.to_datetime(df08['GAME_DATE'])\n",
    "\n",
    "lg08 = raw08.get_data_frames()[1] \n",
    "\n",
    "df08.info()\n",
    "lg08.info()"
   ]
  },
  {
   "cell_type": "markdown",
   "metadata": {
    "heading_collapsed": true,
    "hidden": true
   },
   "source": [
    "## 2006-2007"
   ]
  },
  {
   "cell_type": "code",
   "execution_count": 160,
   "metadata": {
    "ExecuteTime": {
     "end_time": "2020-08-06T04:22:40.905208Z",
     "start_time": "2020-08-06T04:21:40.879745Z"
    },
    "hidden": true
   },
   "outputs": [
    {
     "name": "stdout",
     "output_type": "stream",
     "text": [
      "<class 'pandas.core.frame.DataFrame'>\n",
      "RangeIndex: 196072 entries, 0 to 196071\n",
      "Data columns (total 25 columns):\n",
      " #   Column               Non-Null Count   Dtype         \n",
      "---  ------               --------------   -----         \n",
      " 0   GRID_TYPE            196072 non-null  object        \n",
      " 1   GAME_ID              196072 non-null  object        \n",
      " 2   GAME_EVENT_ID        196072 non-null  int64         \n",
      " 3   PLAYER_ID            196072 non-null  int64         \n",
      " 4   PLAYER_NAME          196072 non-null  object        \n",
      " 5   TEAM_ID              196072 non-null  int64         \n",
      " 6   TEAM_NAME            196072 non-null  object        \n",
      " 7   PERIOD               196072 non-null  int64         \n",
      " 8   MINUTES_REMAINING    196072 non-null  int64         \n",
      " 9   SECONDS_REMAINING    196072 non-null  int64         \n",
      " 10  EVENT_TYPE           196072 non-null  object        \n",
      " 11  ACTION_TYPE          196072 non-null  object        \n",
      " 12  SHOT_TYPE            196072 non-null  object        \n",
      " 13  SHOT_ZONE_BASIC      196072 non-null  object        \n",
      " 14  SHOT_ZONE_AREA       196072 non-null  object        \n",
      " 15  SHOT_ZONE_RANGE      196072 non-null  object        \n",
      " 16  SHOT_DISTANCE        196072 non-null  int64         \n",
      " 17  LOC_X                196072 non-null  int64         \n",
      " 18  LOC_Y                196072 non-null  int64         \n",
      " 19  SHOT_ATTEMPTED_FLAG  196072 non-null  int64         \n",
      " 20  SHOT_MADE_FLAG       196072 non-null  int64         \n",
      " 21  GAME_DATE            196072 non-null  datetime64[ns]\n",
      " 22  HTM                  196072 non-null  object        \n",
      " 23  VTM                  196072 non-null  object        \n",
      " 24  Season               196072 non-null  object        \n",
      "dtypes: datetime64[ns](1), int64(11), object(13)\n",
      "memory usage: 37.4+ MB\n",
      "<class 'pandas.core.frame.DataFrame'>\n",
      "RangeIndex: 20 entries, 0 to 19\n",
      "Data columns (total 7 columns):\n",
      " #   Column           Non-Null Count  Dtype  \n",
      "---  ------           --------------  -----  \n",
      " 0   GRID_TYPE        20 non-null     object \n",
      " 1   SHOT_ZONE_BASIC  20 non-null     object \n",
      " 2   SHOT_ZONE_AREA   20 non-null     object \n",
      " 3   SHOT_ZONE_RANGE  20 non-null     object \n",
      " 4   FGA              20 non-null     int64  \n",
      " 5   FGM              20 non-null     int64  \n",
      " 6   FG_PCT           20 non-null     float64\n",
      "dtypes: float64(1), int64(2), object(4)\n",
      "memory usage: 1.2+ KB\n"
     ]
    }
   ],
   "source": [
    "raw07 = shotchartdetail.ShotChartDetail(\n",
    "    context_measure_simple='FGA',\n",
    "    player_id= 0,\n",
    "    team_id= 0,\n",
    "    season_nullable = '2006-07',\n",
    "    season_type_all_star = 'Regular Season',\n",
    "    last_n_games='0',\n",
    "    period='0',\n",
    "    player_position_nullable= ' ',\n",
    "    clutch_time_nullable= ' ',\n",
    "    ahead_behind_nullable = ' ',\n",
    "    outcome_nullable= ' ')\n",
    "\n",
    "df07 = raw07.get_data_frames()[0]\n",
    "df07['Season'] = '2006-2007'\n",
    "df07['GAME_DATE']=pd.to_datetime(df07['GAME_DATE'])\n",
    "\n",
    "lg07 = raw07.get_data_frames()[1] \n",
    "\n",
    "df07.info()\n",
    "lg07.info()\n"
   ]
  },
  {
   "cell_type": "markdown",
   "metadata": {
    "heading_collapsed": true,
    "hidden": true
   },
   "source": [
    "## 2005-2006"
   ]
  },
  {
   "cell_type": "code",
   "execution_count": 161,
   "metadata": {
    "ExecuteTime": {
     "end_time": "2020-08-06T04:23:22.264354Z",
     "start_time": "2020-08-06T04:22:40.906126Z"
    },
    "hidden": true
   },
   "outputs": [
    {
     "name": "stdout",
     "output_type": "stream",
     "text": [
      "<class 'pandas.core.frame.DataFrame'>\n",
      "RangeIndex: 194314 entries, 0 to 194313\n",
      "Data columns (total 25 columns):\n",
      " #   Column               Non-Null Count   Dtype         \n",
      "---  ------               --------------   -----         \n",
      " 0   GRID_TYPE            194314 non-null  object        \n",
      " 1   GAME_ID              194314 non-null  object        \n",
      " 2   GAME_EVENT_ID        194314 non-null  int64         \n",
      " 3   PLAYER_ID            194314 non-null  int64         \n",
      " 4   PLAYER_NAME          194314 non-null  object        \n",
      " 5   TEAM_ID              194314 non-null  int64         \n",
      " 6   TEAM_NAME            194314 non-null  object        \n",
      " 7   PERIOD               194314 non-null  int64         \n",
      " 8   MINUTES_REMAINING    194314 non-null  int64         \n",
      " 9   SECONDS_REMAINING    194314 non-null  int64         \n",
      " 10  EVENT_TYPE           194314 non-null  object        \n",
      " 11  ACTION_TYPE          194314 non-null  object        \n",
      " 12  SHOT_TYPE            194314 non-null  object        \n",
      " 13  SHOT_ZONE_BASIC      194314 non-null  object        \n",
      " 14  SHOT_ZONE_AREA       194314 non-null  object        \n",
      " 15  SHOT_ZONE_RANGE      194314 non-null  object        \n",
      " 16  SHOT_DISTANCE        194314 non-null  int64         \n",
      " 17  LOC_X                194314 non-null  int64         \n",
      " 18  LOC_Y                194314 non-null  int64         \n",
      " 19  SHOT_ATTEMPTED_FLAG  194314 non-null  int64         \n",
      " 20  SHOT_MADE_FLAG       194314 non-null  int64         \n",
      " 21  GAME_DATE            194314 non-null  datetime64[ns]\n",
      " 22  HTM                  194314 non-null  object        \n",
      " 23  VTM                  194314 non-null  object        \n",
      " 24  Season               194314 non-null  object        \n",
      "dtypes: datetime64[ns](1), int64(11), object(13)\n",
      "memory usage: 37.1+ MB\n",
      "<class 'pandas.core.frame.DataFrame'>\n",
      "RangeIndex: 20 entries, 0 to 19\n",
      "Data columns (total 7 columns):\n",
      " #   Column           Non-Null Count  Dtype  \n",
      "---  ------           --------------  -----  \n",
      " 0   GRID_TYPE        20 non-null     object \n",
      " 1   SHOT_ZONE_BASIC  20 non-null     object \n",
      " 2   SHOT_ZONE_AREA   20 non-null     object \n",
      " 3   SHOT_ZONE_RANGE  20 non-null     object \n",
      " 4   FGA              20 non-null     int64  \n",
      " 5   FGM              20 non-null     int64  \n",
      " 6   FG_PCT           20 non-null     float64\n",
      "dtypes: float64(1), int64(2), object(4)\n",
      "memory usage: 1.2+ KB\n"
     ]
    }
   ],
   "source": [
    "raw06 = shotchartdetail.ShotChartDetail(\n",
    "    context_measure_simple='FGA',\n",
    "    player_id= 0,\n",
    "    team_id= 0,\n",
    "    season_nullable = '2005-06',\n",
    "    season_type_all_star = 'Regular Season',\n",
    "    last_n_games='0',\n",
    "    period='0',\n",
    "    player_position_nullable= ' ',\n",
    "    clutch_time_nullable= ' ',\n",
    "    ahead_behind_nullable = ' ',\n",
    "    outcome_nullable= ' ')\n",
    "\n",
    "df06 = raw06.get_data_frames()[0]\n",
    "df06['Season'] = '2005-2006'\n",
    "df06['GAME_DATE']=pd.to_datetime(df06['GAME_DATE'])\n",
    "\n",
    "lg06 = raw06.get_data_frames()[1] \n",
    "\n",
    "df06.info()\n",
    "lg06.info()\n"
   ]
  },
  {
   "cell_type": "markdown",
   "metadata": {
    "heading_collapsed": true,
    "hidden": true
   },
   "source": [
    "## 2004-2005"
   ]
  },
  {
   "cell_type": "code",
   "execution_count": 162,
   "metadata": {
    "ExecuteTime": {
     "end_time": "2020-08-06T04:24:13.958762Z",
     "start_time": "2020-08-06T04:23:22.265351Z"
    },
    "hidden": true
   },
   "outputs": [
    {
     "name": "stdout",
     "output_type": "stream",
     "text": [
      "<class 'pandas.core.frame.DataFrame'>\n",
      "RangeIndex: 197626 entries, 0 to 197625\n",
      "Data columns (total 25 columns):\n",
      " #   Column               Non-Null Count   Dtype         \n",
      "---  ------               --------------   -----         \n",
      " 0   GRID_TYPE            197626 non-null  object        \n",
      " 1   GAME_ID              197626 non-null  object        \n",
      " 2   GAME_EVENT_ID        197626 non-null  int64         \n",
      " 3   PLAYER_ID            197626 non-null  int64         \n",
      " 4   PLAYER_NAME          197626 non-null  object        \n",
      " 5   TEAM_ID              197626 non-null  int64         \n",
      " 6   TEAM_NAME            197626 non-null  object        \n",
      " 7   PERIOD               197626 non-null  int64         \n",
      " 8   MINUTES_REMAINING    197626 non-null  int64         \n",
      " 9   SECONDS_REMAINING    197626 non-null  int64         \n",
      " 10  EVENT_TYPE           197626 non-null  object        \n",
      " 11  ACTION_TYPE          197626 non-null  object        \n",
      " 12  SHOT_TYPE            197626 non-null  object        \n",
      " 13  SHOT_ZONE_BASIC      197626 non-null  object        \n",
      " 14  SHOT_ZONE_AREA       197626 non-null  object        \n",
      " 15  SHOT_ZONE_RANGE      197626 non-null  object        \n",
      " 16  SHOT_DISTANCE        197626 non-null  int64         \n",
      " 17  LOC_X                197626 non-null  int64         \n",
      " 18  LOC_Y                197626 non-null  int64         \n",
      " 19  SHOT_ATTEMPTED_FLAG  197626 non-null  int64         \n",
      " 20  SHOT_MADE_FLAG       197626 non-null  int64         \n",
      " 21  GAME_DATE            197626 non-null  datetime64[ns]\n",
      " 22  HTM                  197626 non-null  object        \n",
      " 23  VTM                  197626 non-null  object        \n",
      " 24  Season               197626 non-null  object        \n",
      "dtypes: datetime64[ns](1), int64(11), object(13)\n",
      "memory usage: 37.7+ MB\n",
      "<class 'pandas.core.frame.DataFrame'>\n",
      "RangeIndex: 20 entries, 0 to 19\n",
      "Data columns (total 7 columns):\n",
      " #   Column           Non-Null Count  Dtype  \n",
      "---  ------           --------------  -----  \n",
      " 0   GRID_TYPE        20 non-null     object \n",
      " 1   SHOT_ZONE_BASIC  20 non-null     object \n",
      " 2   SHOT_ZONE_AREA   20 non-null     object \n",
      " 3   SHOT_ZONE_RANGE  20 non-null     object \n",
      " 4   FGA              20 non-null     int64  \n",
      " 5   FGM              20 non-null     int64  \n",
      " 6   FG_PCT           20 non-null     float64\n",
      "dtypes: float64(1), int64(2), object(4)\n",
      "memory usage: 1.2+ KB\n"
     ]
    }
   ],
   "source": [
    "raw05 = shotchartdetail.ShotChartDetail(\n",
    "    context_measure_simple='FGA',\n",
    "    player_id= 0,\n",
    "    team_id= 0,\n",
    "    season_nullable = '2004-05',\n",
    "    season_type_all_star = 'Regular Season',\n",
    "    last_n_games='0',\n",
    "    period='0',\n",
    "    player_position_nullable= ' ',\n",
    "    clutch_time_nullable= ' ',\n",
    "    ahead_behind_nullable = ' ',\n",
    "    outcome_nullable= ' ')\n",
    "\n",
    "df05 = raw05.get_data_frames()[0]\n",
    "df05['Season'] = '2004-2005'\n",
    "df05['GAME_DATE']=pd.to_datetime(df05['GAME_DATE'])\n",
    "\n",
    "lg05 = raw05.get_data_frames()[1] \n",
    "\n",
    "df05.info()\n",
    "lg05.info()\n"
   ]
  },
  {
   "cell_type": "markdown",
   "metadata": {
    "heading_collapsed": true,
    "hidden": true
   },
   "source": [
    "## 2003-2004"
   ]
  },
  {
   "cell_type": "code",
   "execution_count": 163,
   "metadata": {
    "ExecuteTime": {
     "end_time": "2020-08-06T04:25:05.894783Z",
     "start_time": "2020-08-06T04:24:13.960357Z"
    },
    "hidden": true
   },
   "outputs": [
    {
     "name": "stdout",
     "output_type": "stream",
     "text": [
      "<class 'pandas.core.frame.DataFrame'>\n",
      "RangeIndex: 189803 entries, 0 to 189802\n",
      "Data columns (total 25 columns):\n",
      " #   Column               Non-Null Count   Dtype         \n",
      "---  ------               --------------   -----         \n",
      " 0   GRID_TYPE            189803 non-null  object        \n",
      " 1   GAME_ID              189803 non-null  object        \n",
      " 2   GAME_EVENT_ID        189803 non-null  int64         \n",
      " 3   PLAYER_ID            189803 non-null  int64         \n",
      " 4   PLAYER_NAME          189803 non-null  object        \n",
      " 5   TEAM_ID              189803 non-null  int64         \n",
      " 6   TEAM_NAME            189803 non-null  object        \n",
      " 7   PERIOD               189803 non-null  int64         \n",
      " 8   MINUTES_REMAINING    189803 non-null  int64         \n",
      " 9   SECONDS_REMAINING    189803 non-null  int64         \n",
      " 10  EVENT_TYPE           189803 non-null  object        \n",
      " 11  ACTION_TYPE          189803 non-null  object        \n",
      " 12  SHOT_TYPE            189803 non-null  object        \n",
      " 13  SHOT_ZONE_BASIC      189803 non-null  object        \n",
      " 14  SHOT_ZONE_AREA       189803 non-null  object        \n",
      " 15  SHOT_ZONE_RANGE      189803 non-null  object        \n",
      " 16  SHOT_DISTANCE        189803 non-null  int64         \n",
      " 17  LOC_X                189803 non-null  int64         \n",
      " 18  LOC_Y                189803 non-null  int64         \n",
      " 19  SHOT_ATTEMPTED_FLAG  189803 non-null  int64         \n",
      " 20  SHOT_MADE_FLAG       189803 non-null  int64         \n",
      " 21  GAME_DATE            189803 non-null  datetime64[ns]\n",
      " 22  HTM                  189803 non-null  object        \n",
      " 23  VTM                  189803 non-null  object        \n",
      " 24  Season               189803 non-null  object        \n",
      "dtypes: datetime64[ns](1), int64(11), object(13)\n",
      "memory usage: 36.2+ MB\n",
      "<class 'pandas.core.frame.DataFrame'>\n",
      "RangeIndex: 20 entries, 0 to 19\n",
      "Data columns (total 7 columns):\n",
      " #   Column           Non-Null Count  Dtype  \n",
      "---  ------           --------------  -----  \n",
      " 0   GRID_TYPE        20 non-null     object \n",
      " 1   SHOT_ZONE_BASIC  20 non-null     object \n",
      " 2   SHOT_ZONE_AREA   20 non-null     object \n",
      " 3   SHOT_ZONE_RANGE  20 non-null     object \n",
      " 4   FGA              20 non-null     int64  \n",
      " 5   FGM              20 non-null     int64  \n",
      " 6   FG_PCT           20 non-null     float64\n",
      "dtypes: float64(1), int64(2), object(4)\n",
      "memory usage: 1.2+ KB\n"
     ]
    }
   ],
   "source": [
    "raw04 = shotchartdetail.ShotChartDetail(\n",
    "    context_measure_simple='FGA',\n",
    "    player_id= 0,\n",
    "    team_id= 0,\n",
    "    season_nullable = '2003-04',\n",
    "    season_type_all_star = 'Regular Season',\n",
    "    last_n_games='0',\n",
    "    period='0',\n",
    "    player_position_nullable= ' ',\n",
    "    clutch_time_nullable= ' ',\n",
    "    ahead_behind_nullable = ' ',\n",
    "    outcome_nullable= ' ')\n",
    "\n",
    "df04 = raw04.get_data_frames()[0]\n",
    "df04['Season'] = '2003-2004'\n",
    "df04['GAME_DATE']=pd.to_datetime(df04['GAME_DATE'])\n",
    "\n",
    "lg04 = raw04.get_data_frames()[1] \n",
    "\n",
    "df04.info()\n",
    "lg04.info()\n"
   ]
  },
  {
   "cell_type": "markdown",
   "metadata": {
    "heading_collapsed": true,
    "hidden": true
   },
   "source": [
    "## 2002-2003"
   ]
  },
  {
   "cell_type": "code",
   "execution_count": 164,
   "metadata": {
    "ExecuteTime": {
     "end_time": "2020-08-06T04:25:56.142096Z",
     "start_time": "2020-08-06T04:25:05.896787Z"
    },
    "hidden": true
   },
   "outputs": [
    {
     "name": "stdout",
     "output_type": "stream",
     "text": [
      "<class 'pandas.core.frame.DataFrame'>\n",
      "RangeIndex: 192109 entries, 0 to 192108\n",
      "Data columns (total 25 columns):\n",
      " #   Column               Non-Null Count   Dtype         \n",
      "---  ------               --------------   -----         \n",
      " 0   GRID_TYPE            192109 non-null  object        \n",
      " 1   GAME_ID              192109 non-null  object        \n",
      " 2   GAME_EVENT_ID        192109 non-null  int64         \n",
      " 3   PLAYER_ID            192109 non-null  int64         \n",
      " 4   PLAYER_NAME          192109 non-null  object        \n",
      " 5   TEAM_ID              192109 non-null  int64         \n",
      " 6   TEAM_NAME            192109 non-null  object        \n",
      " 7   PERIOD               192109 non-null  int64         \n",
      " 8   MINUTES_REMAINING    192109 non-null  int64         \n",
      " 9   SECONDS_REMAINING    192109 non-null  int64         \n",
      " 10  EVENT_TYPE           192109 non-null  object        \n",
      " 11  ACTION_TYPE          192109 non-null  object        \n",
      " 12  SHOT_TYPE            192109 non-null  object        \n",
      " 13  SHOT_ZONE_BASIC      192109 non-null  object        \n",
      " 14  SHOT_ZONE_AREA       192109 non-null  object        \n",
      " 15  SHOT_ZONE_RANGE      192109 non-null  object        \n",
      " 16  SHOT_DISTANCE        192109 non-null  int64         \n",
      " 17  LOC_X                192109 non-null  int64         \n",
      " 18  LOC_Y                192109 non-null  int64         \n",
      " 19  SHOT_ATTEMPTED_FLAG  192109 non-null  int64         \n",
      " 20  SHOT_MADE_FLAG       192109 non-null  int64         \n",
      " 21  GAME_DATE            192109 non-null  datetime64[ns]\n",
      " 22  HTM                  192109 non-null  object        \n",
      " 23  VTM                  192109 non-null  object        \n",
      " 24  Season               192109 non-null  object        \n",
      "dtypes: datetime64[ns](1), int64(11), object(13)\n",
      "memory usage: 36.6+ MB\n",
      "<class 'pandas.core.frame.DataFrame'>\n",
      "RangeIndex: 20 entries, 0 to 19\n",
      "Data columns (total 7 columns):\n",
      " #   Column           Non-Null Count  Dtype  \n",
      "---  ------           --------------  -----  \n",
      " 0   GRID_TYPE        20 non-null     object \n",
      " 1   SHOT_ZONE_BASIC  20 non-null     object \n",
      " 2   SHOT_ZONE_AREA   20 non-null     object \n",
      " 3   SHOT_ZONE_RANGE  20 non-null     object \n",
      " 4   FGA              20 non-null     int64  \n",
      " 5   FGM              20 non-null     int64  \n",
      " 6   FG_PCT           20 non-null     float64\n",
      "dtypes: float64(1), int64(2), object(4)\n",
      "memory usage: 1.2+ KB\n"
     ]
    }
   ],
   "source": [
    "raw03 = shotchartdetail.ShotChartDetail(\n",
    "    context_measure_simple='FGA',\n",
    "    player_id= 0,\n",
    "    team_id= 0,\n",
    "    season_nullable = '2002-03',\n",
    "    season_type_all_star = 'Regular Season',\n",
    "    last_n_games='0',\n",
    "    period='0',\n",
    "    player_position_nullable= ' ',\n",
    "    clutch_time_nullable= ' ',\n",
    "    ahead_behind_nullable = ' ',\n",
    "    outcome_nullable= ' ')\n",
    "\n",
    "df03 = raw03.get_data_frames()[0]\n",
    "df03['Season'] = '2002-2003'\n",
    "df03['GAME_DATE']=pd.to_datetime(df03['GAME_DATE'])\n",
    "\n",
    "lg03 = raw03.get_data_frames()[1] \n",
    "\n",
    "df03.info()\n",
    "lg03.info()\n"
   ]
  },
  {
   "cell_type": "markdown",
   "metadata": {
    "heading_collapsed": true,
    "hidden": true
   },
   "source": [
    "## 2001-2002"
   ]
  },
  {
   "cell_type": "code",
   "execution_count": 165,
   "metadata": {
    "ExecuteTime": {
     "end_time": "2020-08-06T04:26:40.002263Z",
     "start_time": "2020-08-06T04:25:56.144098Z"
    },
    "hidden": true
   },
   "outputs": [
    {
     "name": "stdout",
     "output_type": "stream",
     "text": [
      "<class 'pandas.core.frame.DataFrame'>\n",
      "RangeIndex: 193251 entries, 0 to 193250\n",
      "Data columns (total 25 columns):\n",
      " #   Column               Non-Null Count   Dtype         \n",
      "---  ------               --------------   -----         \n",
      " 0   GRID_TYPE            193251 non-null  object        \n",
      " 1   GAME_ID              193251 non-null  object        \n",
      " 2   GAME_EVENT_ID        193251 non-null  int64         \n",
      " 3   PLAYER_ID            193251 non-null  int64         \n",
      " 4   PLAYER_NAME          193251 non-null  object        \n",
      " 5   TEAM_ID              193251 non-null  int64         \n",
      " 6   TEAM_NAME            193251 non-null  object        \n",
      " 7   PERIOD               193251 non-null  int64         \n",
      " 8   MINUTES_REMAINING    193251 non-null  int64         \n",
      " 9   SECONDS_REMAINING    193251 non-null  int64         \n",
      " 10  EVENT_TYPE           193251 non-null  object        \n",
      " 11  ACTION_TYPE          193251 non-null  object        \n",
      " 12  SHOT_TYPE            193251 non-null  object        \n",
      " 13  SHOT_ZONE_BASIC      193251 non-null  object        \n",
      " 14  SHOT_ZONE_AREA       193251 non-null  object        \n",
      " 15  SHOT_ZONE_RANGE      193251 non-null  object        \n",
      " 16  SHOT_DISTANCE        193251 non-null  int64         \n",
      " 17  LOC_X                193251 non-null  int64         \n",
      " 18  LOC_Y                193251 non-null  int64         \n",
      " 19  SHOT_ATTEMPTED_FLAG  193251 non-null  int64         \n",
      " 20  SHOT_MADE_FLAG       193251 non-null  int64         \n",
      " 21  GAME_DATE            193251 non-null  datetime64[ns]\n",
      " 22  HTM                  193251 non-null  object        \n",
      " 23  VTM                  193251 non-null  object        \n",
      " 24  Season               193251 non-null  object        \n",
      "dtypes: datetime64[ns](1), int64(11), object(13)\n",
      "memory usage: 36.9+ MB\n",
      "<class 'pandas.core.frame.DataFrame'>\n",
      "RangeIndex: 20 entries, 0 to 19\n",
      "Data columns (total 7 columns):\n",
      " #   Column           Non-Null Count  Dtype  \n",
      "---  ------           --------------  -----  \n",
      " 0   GRID_TYPE        20 non-null     object \n",
      " 1   SHOT_ZONE_BASIC  20 non-null     object \n",
      " 2   SHOT_ZONE_AREA   20 non-null     object \n",
      " 3   SHOT_ZONE_RANGE  20 non-null     object \n",
      " 4   FGA              20 non-null     int64  \n",
      " 5   FGM              20 non-null     int64  \n",
      " 6   FG_PCT           20 non-null     float64\n",
      "dtypes: float64(1), int64(2), object(4)\n",
      "memory usage: 1.2+ KB\n"
     ]
    }
   ],
   "source": [
    "raw02 = shotchartdetail.ShotChartDetail(\n",
    "    context_measure_simple='FGA',\n",
    "    player_id= 0,\n",
    "    team_id= 0,\n",
    "    season_nullable = '2001-02',\n",
    "    season_type_all_star = 'Regular Season',\n",
    "    last_n_games='0',\n",
    "    period='0',\n",
    "    player_position_nullable= ' ',\n",
    "    clutch_time_nullable= ' ',\n",
    "    ahead_behind_nullable = ' ',\n",
    "    outcome_nullable= ' ')\n",
    "\n",
    "df02 = raw02.get_data_frames()[0]\n",
    "df02['Season'] = '2001-2002'\n",
    "df02['GAME_DATE']=pd.to_datetime(df02['GAME_DATE'])\n",
    "\n",
    "lg02 = raw02.get_data_frames()[1] \n",
    "\n",
    "df02.info()\n",
    "lg02.info()\n"
   ]
  },
  {
   "cell_type": "markdown",
   "metadata": {
    "heading_collapsed": true,
    "hidden": true
   },
   "source": [
    "## 2000-2001"
   ]
  },
  {
   "cell_type": "code",
   "execution_count": 166,
   "metadata": {
    "ExecuteTime": {
     "end_time": "2020-08-06T04:27:38.485746Z",
     "start_time": "2020-08-06T04:26:40.004184Z"
    },
    "hidden": true
   },
   "outputs": [
    {
     "name": "stdout",
     "output_type": "stream",
     "text": [
      "<class 'pandas.core.frame.DataFrame'>\n",
      "RangeIndex: 191662 entries, 0 to 191661\n",
      "Data columns (total 25 columns):\n",
      " #   Column               Non-Null Count   Dtype         \n",
      "---  ------               --------------   -----         \n",
      " 0   GRID_TYPE            191662 non-null  object        \n",
      " 1   GAME_ID              191662 non-null  object        \n",
      " 2   GAME_EVENT_ID        191662 non-null  int64         \n",
      " 3   PLAYER_ID            191662 non-null  int64         \n",
      " 4   PLAYER_NAME          191662 non-null  object        \n",
      " 5   TEAM_ID              191662 non-null  int64         \n",
      " 6   TEAM_NAME            191662 non-null  object        \n",
      " 7   PERIOD               191662 non-null  int64         \n",
      " 8   MINUTES_REMAINING    191662 non-null  int64         \n",
      " 9   SECONDS_REMAINING    191662 non-null  int64         \n",
      " 10  EVENT_TYPE           191662 non-null  object        \n",
      " 11  ACTION_TYPE          191662 non-null  object        \n",
      " 12  SHOT_TYPE            191662 non-null  object        \n",
      " 13  SHOT_ZONE_BASIC      191662 non-null  object        \n",
      " 14  SHOT_ZONE_AREA       191662 non-null  object        \n",
      " 15  SHOT_ZONE_RANGE      191662 non-null  object        \n",
      " 16  SHOT_DISTANCE        191662 non-null  int64         \n",
      " 17  LOC_X                191662 non-null  int64         \n",
      " 18  LOC_Y                191662 non-null  int64         \n",
      " 19  SHOT_ATTEMPTED_FLAG  191662 non-null  int64         \n",
      " 20  SHOT_MADE_FLAG       191662 non-null  int64         \n",
      " 21  GAME_DATE            191662 non-null  datetime64[ns]\n",
      " 22  HTM                  191662 non-null  object        \n",
      " 23  VTM                  191662 non-null  object        \n",
      " 24  Season               191662 non-null  object        \n",
      "dtypes: datetime64[ns](1), int64(11), object(13)\n",
      "memory usage: 36.6+ MB\n",
      "<class 'pandas.core.frame.DataFrame'>\n",
      "RangeIndex: 20 entries, 0 to 19\n",
      "Data columns (total 7 columns):\n",
      " #   Column           Non-Null Count  Dtype  \n",
      "---  ------           --------------  -----  \n",
      " 0   GRID_TYPE        20 non-null     object \n",
      " 1   SHOT_ZONE_BASIC  20 non-null     object \n",
      " 2   SHOT_ZONE_AREA   20 non-null     object \n",
      " 3   SHOT_ZONE_RANGE  20 non-null     object \n",
      " 4   FGA              20 non-null     int64  \n",
      " 5   FGM              20 non-null     int64  \n",
      " 6   FG_PCT           20 non-null     float64\n",
      "dtypes: float64(1), int64(2), object(4)\n",
      "memory usage: 1.2+ KB\n"
     ]
    }
   ],
   "source": [
    "raw01 = shotchartdetail.ShotChartDetail(\n",
    "    context_measure_simple='FGA',\n",
    "    player_id= 0,\n",
    "    team_id= 0,\n",
    "    season_nullable = '2000-01',\n",
    "    season_type_all_star = 'Regular Season',\n",
    "    last_n_games='0',\n",
    "    period='0',\n",
    "    player_position_nullable= ' ',\n",
    "    clutch_time_nullable= ' ',\n",
    "    ahead_behind_nullable = ' ',\n",
    "    outcome_nullable= ' ')\n",
    "\n",
    "df01 = raw01.get_data_frames()[0]\n",
    "df01['Season'] = '2000-2001'\n",
    "df01['GAME_DATE']=pd.to_datetime(df01['GAME_DATE'])\n",
    "\n",
    "lg01 = raw01.get_data_frames()[1] \n",
    "\n",
    "df01.info()\n",
    "lg01.info()\n"
   ]
  },
  {
   "cell_type": "markdown",
   "metadata": {
    "heading_collapsed": true
   },
   "source": [
    "# Prepare DF"
   ]
  },
  {
   "cell_type": "markdown",
   "metadata": {
    "hidden": true
   },
   "source": [
    "After getting all the needed data from the API, in this section, the dataframes will be explored from a macro view and then integrated to the visualization tool.  along the way new data will be engineered and further analysis will be done as needed.\n",
    "\n",
    "The link to the Tableau project is provided above. Features were selected and used for the successful creation of a shot chart. Visualization technique and chart creation was conducted based on the provided resources referenced above."
   ]
  },
  {
   "cell_type": "code",
   "execution_count": 5,
   "metadata": {
    "ExecuteTime": {
     "end_time": "2020-08-07T03:50:22.211623Z",
     "start_time": "2020-08-07T03:50:22.197558Z"
    },
    "hidden": true
   },
   "outputs": [],
   "source": [
    "# The season column is created for each lg[x] dataframe and then concatenated using pandas concat method.\n",
    "lg20['Season'] = '2019-2020'\n",
    "lg19['Season'] = '2018-2019'\n",
    "lg18['Season'] = '2017-2018' \n",
    "lg17['Season'] = '2016-2017'\n",
    "lg16['Season'] = '2015-2016'\n",
    "lg15['Season'] = '2014-2015'\n",
    "lg14['Season'] = '2013-2014'\n",
    "lg13['Season'] = '2012-2013'\n",
    "lg12['Season'] = '2011-2012'\n",
    "lg11['Season'] = '2010-2011'\n",
    "lg10['Season'] = '2009-2010'\n",
    "lg09['Season'] = '2008-2009'\n",
    "lg08['Season'] = '2007-2008'\n",
    "lg07['Season'] = '2006-2007'\n",
    "lg06['Season'] = '2005-2006'\n",
    "lg05['Season'] = '2004-2005'\n",
    "lg04['Season'] = '2003-2004'\n",
    "lg03['Season'] = '2002-2003'\n",
    "lg02['Season'] = '2001-2002'\n",
    "lg01['Season'] = '2000-2001'\n",
    "\n",
    "\n",
    "# Creating leagues aggregated dataframe with all seasons' data\n",
    "#----new dataframe -> lg_df\n",
    "frameslg = [lg20, lg19, lg18, lg17, lg16, lg15, lg14, lg13, lg12, lg11, lg10, lg09,\n",
    "          lg08, lg07, lg06, lg05, lg04, lg03, lg02, lg01] \n",
    "         \n",
    "lg_df = pd.concat(frameslg)\n",
    "\n",
    "\n",
    "# Creating player's dataframe with all seasons' data\n",
    "#----new dataframe -> df\n",
    "framesdf = [df20, df19, df18, df17, df16, df15, df14, df13, df12, df11, df10, df09,\n",
    "          df08, df07, df06, df05, df04, df03, df02, df01] \n",
    "         \n",
    "df = pd.concat(framesdf)"
   ]
  },
  {
   "cell_type": "markdown",
   "metadata": {
    "heading_collapsed": true
   },
   "source": [
    "# Simple Exploratory Data Analysis"
   ]
  },
  {
   "cell_type": "markdown",
   "metadata": {
    "hidden": true
   },
   "source": [
    "It is important to explore the data to understand the correlations and results of the dataframes. In this section, a simple data analysis is conducted to make sure that the data can be used"
   ]
  },
  {
   "cell_type": "code",
   "execution_count": 170,
   "metadata": {
    "ExecuteTime": {
     "end_time": "2020-08-06T04:27:54.911504Z",
     "start_time": "2020-08-06T04:27:48.634308Z"
    },
    "hidden": true
   },
   "outputs": [
    {
     "name": "stdout",
     "output_type": "stream",
     "text": [
      "<class 'pandas.core.frame.DataFrame'>\n",
      "Int64Index: 3955504 entries, 0 to 191661\n",
      "Data columns (total 25 columns):\n",
      " #   Column               Dtype         \n",
      "---  ------               -----         \n",
      " 0   GRID_TYPE            object        \n",
      " 1   GAME_ID              object        \n",
      " 2   GAME_EVENT_ID        int64         \n",
      " 3   PLAYER_ID            int64         \n",
      " 4   PLAYER_NAME          object        \n",
      " 5   TEAM_ID              int64         \n",
      " 6   TEAM_NAME            object        \n",
      " 7   PERIOD               int64         \n",
      " 8   MINUTES_REMAINING    int64         \n",
      " 9   SECONDS_REMAINING    int64         \n",
      " 10  EVENT_TYPE           object        \n",
      " 11  ACTION_TYPE          object        \n",
      " 12  SHOT_TYPE            object        \n",
      " 13  SHOT_ZONE_BASIC      object        \n",
      " 14  SHOT_ZONE_AREA       object        \n",
      " 15  SHOT_ZONE_RANGE      object        \n",
      " 16  SHOT_DISTANCE        int64         \n",
      " 17  LOC_X                int64         \n",
      " 18  LOC_Y                int64         \n",
      " 19  SHOT_ATTEMPTED_FLAG  int64         \n",
      " 20  SHOT_MADE_FLAG       int64         \n",
      " 21  GAME_DATE            datetime64[ns]\n",
      " 22  HTM                  object        \n",
      " 23  VTM                  object        \n",
      " 24  Season               object        \n",
      "dtypes: datetime64[ns](1), int64(11), object(13)\n",
      "memory usage: 784.6+ MB\n"
     ]
    },
    {
     "data": {
      "image/png": "[encoded data removed]",
      "text/plain": [
       "<Figure size 460.8x403.2 with 1 Axes>"
      ]
     },
     "metadata": {},
     "output_type": "display_data"
    }
   ],
   "source": [
    "df['Season'].value_counts().plot(kind='barh')\n",
    "df.info()"
   ]
  },
  {
   "cell_type": "markdown",
   "metadata": {
    "ExecuteTime": {
     "end_time": "2020-08-06T04:31:23.967210Z",
     "start_time": "2020-08-06T04:31:23.956210Z"
    },
    "hidden": true
   },
   "source": [
    "Overall number of shots increasing per season. Pace of the game increasing. "
   ]
  },
  {
   "cell_type": "code",
   "execution_count": 194,
   "metadata": {
    "ExecuteTime": {
     "end_time": "2020-08-06T16:54:16.094298Z",
     "start_time": "2020-08-06T16:54:16.041297Z"
    },
    "hidden": true
   },
   "outputs": [
    {
     "name": "stdout",
     "output_type": "stream",
     "text": [
      "<class 'pandas.core.frame.DataFrame'>\n",
      "Int64Index: 400 entries, 0 to 19\n",
      "Data columns (total 8 columns):\n",
      " #   Column           Non-Null Count  Dtype  \n",
      "---  ------           --------------  -----  \n",
      " 0   GRID_TYPE        400 non-null    object \n",
      " 1   SHOT_ZONE_BASIC  400 non-null    object \n",
      " 2   SHOT_ZONE_AREA   400 non-null    object \n",
      " 3   SHOT_ZONE_RANGE  400 non-null    object \n",
      " 4   FGA              400 non-null    int64  \n",
      " 5   FGM              400 non-null    int64  \n",
      " 6   FG_PCT           400 non-null    float64\n",
      " 7   Season           400 non-null    object \n",
      "dtypes: float64(1), int64(2), object(5)\n",
      "memory usage: 28.1+ KB\n"
     ]
    }
   ],
   "source": [
    "lg_df.info()"
   ]
  },
  {
   "cell_type": "code",
   "execution_count": 193,
   "metadata": {
    "ExecuteTime": {
     "end_time": "2020-08-06T08:01:47.381844Z",
     "start_time": "2020-08-06T08:01:47.298840Z"
    },
    "hidden": true
   },
   "outputs": [
    {
     "name": "stdout",
     "output_type": "stream",
     "text": [
      "<class 'pandas.core.frame.DataFrame'>\n",
      "Int64Index: 3955504 entries, 0 to 191661\n",
      "Data columns (total 25 columns):\n",
      " #   Column               Dtype         \n",
      "---  ------               -----         \n",
      " 0   GRID_TYPE            object        \n",
      " 1   GAME_ID              object        \n",
      " 2   GAME_EVENT_ID        int64         \n",
      " 3   PLAYER_ID            int64         \n",
      " 4   PLAYER_NAME          object        \n",
      " 5   TEAM_ID              int64         \n",
      " 6   TEAM_NAME            object        \n",
      " 7   PERIOD               int64         \n",
      " 8   MINUTES_REMAINING    int64         \n",
      " 9   SECONDS_REMAINING    int64         \n",
      " 10  EVENT_TYPE           object        \n",
      " 11  ACTION_TYPE          object        \n",
      " 12  SHOT_TYPE            object        \n",
      " 13  SHOT_ZONE_BASIC      object        \n",
      " 14  SHOT_ZONE_AREA       object        \n",
      " 15  SHOT_ZONE_RANGE      object        \n",
      " 16  SHOT_DISTANCE        int64         \n",
      " 17  LOC_X                int64         \n",
      " 18  LOC_Y                int64         \n",
      " 19  SHOT_ATTEMPTED_FLAG  int64         \n",
      " 20  SHOT_MADE_FLAG       int64         \n",
      " 21  GAME_DATE            datetime64[ns]\n",
      " 22  HTM                  object        \n",
      " 23  VTM                  object        \n",
      " 24  Season               object        \n",
      "dtypes: datetime64[ns](1), int64(11), object(13)\n",
      "memory usage: 784.6+ MB\n"
     ]
    }
   ],
   "source": [
    "df.info()"
   ]
  },
  {
   "cell_type": "code",
   "execution_count": 178,
   "metadata": {
    "ExecuteTime": {
     "end_time": "2020-08-06T04:36:50.617010Z",
     "start_time": "2020-08-06T04:35:57.311237Z"
    },
    "hidden": true
   },
   "outputs": [],
   "source": [
    "# Exporting dataframes to start the visualization process, trial and error as mentioned in previous section's header\n",
    "\n",
    "df.to_csv(\"sc01_20.csv\", sep=\" \", header=True, index=False)  \n",
    "\n",
    "lg_df.to_csv(\"lg01_20.csv\", sep=\" \", header=True, index=False)  "
   ]
  },
  {
   "cell_type": "markdown",
   "metadata": {
    "heading_collapsed": true
   },
   "source": [
    "# Data Engineering"
   ]
  },
  {
   "cell_type": "markdown",
   "metadata": {
    "hidden": true
   },
   "source": [
    "As the data is being used in the visualization tool, new ideas arise and the need for new features arise as well.  For that, new features are being created in order to provide the insights needed in the visualization tool. At the same time, the dataframes are being checked in order to confirm that no errors arise.\n",
    "\n",
    "Below codes are self explanatory and will not be explained further for this section."
   ]
  },
  {
   "cell_type": "markdown",
   "metadata": {
    "ExecuteTime": {
     "end_time": "2020-08-06T17:05:11.318744Z",
     "start_time": "2020-08-06T17:05:11.303232Z"
    },
    "hidden": true
   },
   "source": [
    "## Create New Feature to filter home and road games"
   ]
  },
  {
   "cell_type": "code",
   "execution_count": 68,
   "metadata": {
    "ExecuteTime": {
     "end_time": "2020-08-07T05:58:22.484197Z",
     "start_time": "2020-08-07T05:57:52.019791Z"
    },
    "hidden": true
   },
   "outputs": [],
   "source": [
    "# Import dataframes again in order to start engineering after exploring them with the visualization tool\n",
    "\n",
    "df = pd.read_csv(\"C:/Users/tazkh/OneDrive/Documents/WeCloudData/Project/nba_vis/sc01_20.csv\", header=0, delim_whitespace=True)\n",
    "lg = pd.read_csv(\"C:/Users/tazkh/OneDrive/Documents/WeCloudData/Project/nba_vis/lg01_20.csv\", header=0, delim_whitespace=True)"
   ]
  },
  {
   "cell_type": "code",
   "execution_count": 70,
   "metadata": {
    "ExecuteTime": {
     "end_time": "2020-08-07T05:58:22.531588Z",
     "start_time": "2020-08-07T05:58:22.502583Z"
    },
    "hidden": true
   },
   "outputs": [
    {
     "name": "stdout",
     "output_type": "stream",
     "text": [
      "<class 'pandas.core.frame.DataFrame'>\n",
      "RangeIndex: 3955504 entries, 0 to 3955503\n",
      "Data columns (total 25 columns):\n",
      " #   Column               Dtype \n",
      "---  ------               ----- \n",
      " 0   GRID_TYPE            object\n",
      " 1   GAME_ID              int64 \n",
      " 2   GAME_EVENT_ID        int64 \n",
      " 3   PLAYER_ID            int64 \n",
      " 4   PLAYER_NAME          object\n",
      " 5   TEAM_ID              int64 \n",
      " 6   TEAM_NAME            object\n",
      " 7   PERIOD               int64 \n",
      " 8   MINUTES_REMAINING    int64 \n",
      " 9   SECONDS_REMAINING    int64 \n",
      " 10  EVENT_TYPE           object\n",
      " 11  ACTION_TYPE          object\n",
      " 12  SHOT_TYPE            object\n",
      " 13  SHOT_ZONE_BASIC      object\n",
      " 14  SHOT_ZONE_AREA       object\n",
      " 15  SHOT_ZONE_RANGE      object\n",
      " 16  SHOT_DISTANCE        int64 \n",
      " 17  LOC_X                int64 \n",
      " 18  LOC_Y                int64 \n",
      " 19  SHOT_ATTEMPTED_FLAG  int64 \n",
      " 20  SHOT_MADE_FLAG       int64 \n",
      " 21  GAME_DATE            object\n",
      " 22  HTM                  object\n",
      " 23  VTM                  object\n",
      " 24  Season               object\n",
      "dtypes: int64(12), object(13)\n",
      "memory usage: 754.5+ MB\n"
     ]
    }
   ],
   "source": [
    "df.info()"
   ]
  },
  {
   "cell_type": "code",
   "execution_count": 71,
   "metadata": {
    "ExecuteTime": {
     "end_time": "2020-08-07T05:58:22.771581Z",
     "start_time": "2020-08-07T05:58:22.534583Z"
    },
    "hidden": true
   },
   "outputs": [
    {
     "data": {
      "text/plain": [
       "array(['New Orleans Pelicans', 'Toronto Raptors', 'Los Angeles Lakers',\n",
       "       'LA Clippers', 'Chicago Bulls', 'Charlotte Hornets',\n",
       "       'Detroit Pistons', 'Indiana Pacers', 'Orlando Magic',\n",
       "       'Cleveland Cavaliers', 'Minnesota Timberwolves', 'Brooklyn Nets',\n",
       "       'Miami Heat', 'Memphis Grizzlies', 'Boston Celtics',\n",
       "       'Philadelphia 76ers', 'Dallas Mavericks', 'Washington Wizards',\n",
       "       'New York Knicks', 'San Antonio Spurs', 'Utah Jazz',\n",
       "       'Oklahoma City Thunder', 'Sacramento Kings', 'Phoenix Suns',\n",
       "       'Portland Trail Blazers', 'Denver Nuggets', 'Atlanta Hawks',\n",
       "       'Houston Rockets', 'Milwaukee Bucks', 'Golden State Warriors',\n",
       "       'Los Angeles Clippers', 'Charlotte Bobcats', 'New Orleans Hornets',\n",
       "       'New Jersey Nets', 'Seattle SuperSonics',\n",
       "       'New Orleans/Oklahoma City Hornets', 'Vancouver Grizzlies'],\n",
       "      dtype=object)"
      ]
     },
     "execution_count": 71,
     "metadata": {},
     "output_type": "execute_result"
    }
   ],
   "source": [
    "df.TEAM_NAME.unique()"
   ]
  },
  {
   "cell_type": "code",
   "execution_count": 72,
   "metadata": {
    "ExecuteTime": {
     "end_time": "2020-08-07T05:58:22.911585Z",
     "start_time": "2020-08-07T05:58:22.772582Z"
    },
    "hidden": true
   },
   "outputs": [
    {
     "data": {
      "text/plain": [
       "array(['TOR', 'LAC', 'CHA', 'IND', 'ORL', 'BKN', 'MIA', 'PHI', 'DAL',\n",
       "       'SAS', 'UTA', 'PHX', 'POR', 'DET', 'HOU', 'GSW', 'BOS', 'MEM',\n",
       "       'NOP', 'OKC', 'DEN', 'SAC', 'LAL', 'MIL', 'ATL', 'NYK', 'CLE',\n",
       "       'CHI', 'MIN', 'WAS', 'NOH', 'NJN', 'SEA', 'NOK', 'CHH', 'VAN'],\n",
       "      dtype=object)"
      ]
     },
     "execution_count": 72,
     "metadata": {},
     "output_type": "execute_result"
    }
   ],
   "source": [
    "df.HTM.unique()"
   ]
  },
  {
   "cell_type": "code",
   "execution_count": 73,
   "metadata": {
    "ExecuteTime": {
     "end_time": "2020-08-07T05:58:22.943582Z",
     "start_time": "2020-08-07T05:58:22.913582Z"
    },
    "hidden": true
   },
   "outputs": [],
   "source": [
    "df['Team2']=df['TEAM_NAME']"
   ]
  },
  {
   "cell_type": "code",
   "execution_count": 74,
   "metadata": {
    "ExecuteTime": {
     "end_time": "2020-08-07T05:58:30.283769Z",
     "start_time": "2020-08-07T05:58:26.237090Z"
    },
    "hidden": true
   },
   "outputs": [],
   "source": [
    "abrv = {'New Orleans Pelicans' : 'NOP', 'Toronto Raptors': 'TOR', 'Los Angeles Lakers': 'LAL',\n",
    "       'LA Clippers': 'LAC', 'Chicago Bulls': 'CHI', 'Charlotte Hornets': 'CHH',\n",
    "       'Detroit Pistons': 'DET', 'Indiana Pacers': 'IND' , 'Orlando Magic': 'ORL',\n",
    "       'Cleveland Cavaliers': 'CLE', 'Minnesota Timberwolves': 'MIN', 'Brooklyn Nets': 'BKN',\n",
    "       'Miami Heat': 'MIA', 'Memphis Grizzlies': 'MEM', 'Boston Celtics': 'BOS',\n",
    "       'Philadelphia 76ers': 'PHI', 'Dallas Mavericks': 'DAL', 'Washington Wizards': 'WAS',\n",
    "       'New York Knicks': 'NYK', 'San Antonio Spurs': 'SAS', 'Utah Jazz': 'UTA',\n",
    "       'Oklahoma City Thunder': 'OKC', 'Sacramento Kings': 'SAC', 'Phoenix Suns': 'PHX',\n",
    "       'Portland Trail Blazers': 'POR', 'Denver Nuggets': 'DEN', 'Atlanta Hawks': 'ATL',\n",
    "       'Houston Rockets': 'HOU', 'Milwaukee Bucks': 'MIL', 'Golden State Warriors': 'GSW',\n",
    "       'Los Angeles Clippers': 'LAC', 'Charlotte Bobcats': 'CHA', 'New Orleans Hornets': 'NOH',\n",
    "       'New Jersey Nets': 'NJN', 'Seattle SuperSonics': 'SEA',\n",
    "       'New Orleans/Oklahoma City Hornets': 'NOK' , 'Vancouver Grizzlies': 'VAN'}\n",
    "\n",
    "df = df.replace({'Team2': abrv}) "
   ]
  },
  {
   "cell_type": "code",
   "execution_count": 75,
   "metadata": {
    "ExecuteTime": {
     "end_time": "2020-08-07T05:58:30.612326Z",
     "start_time": "2020-08-07T05:58:30.286773Z"
    },
    "hidden": true
   },
   "outputs": [],
   "source": [
    "df['Home vs. Away'] = df['HTM'] == df['Team2']"
   ]
  },
  {
   "cell_type": "code",
   "execution_count": 76,
   "metadata": {
    "ExecuteTime": {
     "end_time": "2020-08-07T05:58:32.199799Z",
     "start_time": "2020-08-07T05:58:31.707995Z"
    },
    "hidden": true
   },
   "outputs": [],
   "source": [
    "ha = {False: 'Away', True: 'Home'} \n",
    "df = df.replace({'Home vs. Away': ha }) "
   ]
  },
  {
   "cell_type": "code",
   "execution_count": 77,
   "metadata": {
    "ExecuteTime": {
     "end_time": "2020-08-07T05:58:36.533627Z",
     "start_time": "2020-08-07T05:58:36.075936Z"
    },
    "hidden": true
   },
   "outputs": [
    {
     "data": {
      "text/plain": [
       "array(['NOP', 'TOR', 'LAL', 'LAC', 'CHI', 'CHH', 'DET', 'IND', 'ORL',\n",
       "       'CLE', 'MIN', 'BKN', 'MIA', 'MEM', 'BOS', 'PHI', 'DAL', 'WAS',\n",
       "       'NYK', 'SAS', 'UTA', 'OKC', 'SAC', 'PHX', 'POR', 'DEN', 'ATL',\n",
       "       'HOU', 'MIL', 'GSW', 'CHA', 'NOH', 'NJN', 'SEA', 'NOK', 'VAN'],\n",
       "      dtype=object)"
      ]
     },
     "execution_count": 77,
     "metadata": {},
     "output_type": "execute_result"
    }
   ],
   "source": [
    "#making sure everything classified as home or away\n",
    "df['Home vs. Away'].unique()\n",
    "df['Home vs. Away'].value_counts()\n",
    "df['Team2'].unique()"
   ]
  },
  {
   "cell_type": "code",
   "execution_count": 78,
   "metadata": {
    "ExecuteTime": {
     "end_time": "2020-08-07T05:58:38.673431Z",
     "start_time": "2020-08-07T05:58:38.651749Z"
    },
    "hidden": true
   },
   "outputs": [
    {
     "data": {
      "text/html": [
       "<div>\n",
       "<style scoped>\n",
       "    .dataframe tbody tr th:only-of-type {\n",
       "        vertical-align: middle;\n",
       "    }\n",
       "\n",
       "    .dataframe tbody tr th {\n",
       "        vertical-align: top;\n",
       "    }\n",
       "\n",
       "    .dataframe thead th {\n",
       "        text-align: right;\n",
       "    }\n",
       "</style>\n",
       "<table border=\"1\" class=\"dataframe\">\n",
       "  <thead>\n",
       "    <tr style=\"text-align: right;\">\n",
       "      <th></th>\n",
       "      <th>GRID_TYPE</th>\n",
       "      <th>GAME_ID</th>\n",
       "      <th>GAME_EVENT_ID</th>\n",
       "      <th>PLAYER_ID</th>\n",
       "      <th>PLAYER_NAME</th>\n",
       "      <th>TEAM_ID</th>\n",
       "      <th>TEAM_NAME</th>\n",
       "      <th>PERIOD</th>\n",
       "      <th>MINUTES_REMAINING</th>\n",
       "      <th>SECONDS_REMAINING</th>\n",
       "      <th>...</th>\n",
       "      <th>LOC_X</th>\n",
       "      <th>LOC_Y</th>\n",
       "      <th>SHOT_ATTEMPTED_FLAG</th>\n",
       "      <th>SHOT_MADE_FLAG</th>\n",
       "      <th>GAME_DATE</th>\n",
       "      <th>HTM</th>\n",
       "      <th>VTM</th>\n",
       "      <th>Season</th>\n",
       "      <th>Team2</th>\n",
       "      <th>Home vs. Away</th>\n",
       "    </tr>\n",
       "  </thead>\n",
       "  <tbody>\n",
       "    <tr>\n",
       "      <th>0</th>\n",
       "      <td>Shot Chart Detail</td>\n",
       "      <td>21900001</td>\n",
       "      <td>7</td>\n",
       "      <td>1628366</td>\n",
       "      <td>Lonzo Ball</td>\n",
       "      <td>1610612740</td>\n",
       "      <td>New Orleans Pelicans</td>\n",
       "      <td>1</td>\n",
       "      <td>11</td>\n",
       "      <td>48</td>\n",
       "      <td>...</td>\n",
       "      <td>2</td>\n",
       "      <td>114</td>\n",
       "      <td>1</td>\n",
       "      <td>0</td>\n",
       "      <td>2019-10-22</td>\n",
       "      <td>TOR</td>\n",
       "      <td>NOP</td>\n",
       "      <td>2019-2020</td>\n",
       "      <td>NOP</td>\n",
       "      <td>Away</td>\n",
       "    </tr>\n",
       "    <tr>\n",
       "      <th>1</th>\n",
       "      <td>Shot Chart Detail</td>\n",
       "      <td>21900001</td>\n",
       "      <td>9</td>\n",
       "      <td>202324</td>\n",
       "      <td>Derrick Favors</td>\n",
       "      <td>1610612740</td>\n",
       "      <td>New Orleans Pelicans</td>\n",
       "      <td>1</td>\n",
       "      <td>11</td>\n",
       "      <td>47</td>\n",
       "      <td>...</td>\n",
       "      <td>0</td>\n",
       "      <td>-6</td>\n",
       "      <td>1</td>\n",
       "      <td>1</td>\n",
       "      <td>2019-10-22</td>\n",
       "      <td>TOR</td>\n",
       "      <td>NOP</td>\n",
       "      <td>2019-2020</td>\n",
       "      <td>NOP</td>\n",
       "      <td>Away</td>\n",
       "    </tr>\n",
       "    <tr>\n",
       "      <th>2</th>\n",
       "      <td>Shot Chart Detail</td>\n",
       "      <td>21900001</td>\n",
       "      <td>10</td>\n",
       "      <td>1628384</td>\n",
       "      <td>OG Anunoby</td>\n",
       "      <td>1610612761</td>\n",
       "      <td>Toronto Raptors</td>\n",
       "      <td>1</td>\n",
       "      <td>11</td>\n",
       "      <td>29</td>\n",
       "      <td>...</td>\n",
       "      <td>15</td>\n",
       "      <td>28</td>\n",
       "      <td>1</td>\n",
       "      <td>0</td>\n",
       "      <td>2019-10-22</td>\n",
       "      <td>TOR</td>\n",
       "      <td>NOP</td>\n",
       "      <td>2019-2020</td>\n",
       "      <td>TOR</td>\n",
       "      <td>Home</td>\n",
       "    </tr>\n",
       "    <tr>\n",
       "      <th>3</th>\n",
       "      <td>Shot Chart Detail</td>\n",
       "      <td>21900001</td>\n",
       "      <td>12</td>\n",
       "      <td>201950</td>\n",
       "      <td>Jrue Holiday</td>\n",
       "      <td>1610612740</td>\n",
       "      <td>New Orleans Pelicans</td>\n",
       "      <td>1</td>\n",
       "      <td>11</td>\n",
       "      <td>16</td>\n",
       "      <td>...</td>\n",
       "      <td>81</td>\n",
       "      <td>-1</td>\n",
       "      <td>1</td>\n",
       "      <td>0</td>\n",
       "      <td>2019-10-22</td>\n",
       "      <td>TOR</td>\n",
       "      <td>NOP</td>\n",
       "      <td>2019-2020</td>\n",
       "      <td>NOP</td>\n",
       "      <td>Away</td>\n",
       "    </tr>\n",
       "    <tr>\n",
       "      <th>4</th>\n",
       "      <td>Shot Chart Detail</td>\n",
       "      <td>21900001</td>\n",
       "      <td>14</td>\n",
       "      <td>200768</td>\n",
       "      <td>Kyle Lowry</td>\n",
       "      <td>1610612761</td>\n",
       "      <td>Toronto Raptors</td>\n",
       "      <td>1</td>\n",
       "      <td>11</td>\n",
       "      <td>11</td>\n",
       "      <td>...</td>\n",
       "      <td>178</td>\n",
       "      <td>176</td>\n",
       "      <td>1</td>\n",
       "      <td>0</td>\n",
       "      <td>2019-10-22</td>\n",
       "      <td>TOR</td>\n",
       "      <td>NOP</td>\n",
       "      <td>2019-2020</td>\n",
       "      <td>TOR</td>\n",
       "      <td>Home</td>\n",
       "    </tr>\n",
       "  </tbody>\n",
       "</table>\n",
       "<p>5 rows × 27 columns</p>\n",
       "</div>"
      ],
      "text/plain": [
       "           GRID_TYPE   GAME_ID  GAME_EVENT_ID  PLAYER_ID     PLAYER_NAME  \\\n",
       "0  Shot Chart Detail  21900001              7    1628366      Lonzo Ball   \n",
       "1  Shot Chart Detail  21900001              9     202324  Derrick Favors   \n",
       "2  Shot Chart Detail  21900001             10    1628384      OG Anunoby   \n",
       "3  Shot Chart Detail  21900001             12     201950    Jrue Holiday   \n",
       "4  Shot Chart Detail  21900001             14     200768      Kyle Lowry   \n",
       "\n",
       "      TEAM_ID             TEAM_NAME  PERIOD  MINUTES_REMAINING  \\\n",
       "0  1610612740  New Orleans Pelicans       1                 11   \n",
       "1  1610612740  New Orleans Pelicans       1                 11   \n",
       "2  1610612761       Toronto Raptors       1                 11   \n",
       "3  1610612740  New Orleans Pelicans       1                 11   \n",
       "4  1610612761       Toronto Raptors       1                 11   \n",
       "\n",
       "   SECONDS_REMAINING  ... LOC_X LOC_Y SHOT_ATTEMPTED_FLAG SHOT_MADE_FLAG  \\\n",
       "0                 48  ...     2   114                   1              0   \n",
       "1                 47  ...     0    -6                   1              1   \n",
       "2                 29  ...    15    28                   1              0   \n",
       "3                 16  ...    81    -1                   1              0   \n",
       "4                 11  ...   178   176                   1              0   \n",
       "\n",
       "    GAME_DATE  HTM  VTM     Season  Team2  Home vs. Away  \n",
       "0  2019-10-22  TOR  NOP  2019-2020    NOP           Away  \n",
       "1  2019-10-22  TOR  NOP  2019-2020    NOP           Away  \n",
       "2  2019-10-22  TOR  NOP  2019-2020    TOR           Home  \n",
       "3  2019-10-22  TOR  NOP  2019-2020    NOP           Away  \n",
       "4  2019-10-22  TOR  NOP  2019-2020    TOR           Home  \n",
       "\n",
       "[5 rows x 27 columns]"
      ]
     },
     "execution_count": 78,
     "metadata": {},
     "output_type": "execute_result"
    }
   ],
   "source": [
    "df.head()"
   ]
  },
  {
   "cell_type": "code",
   "execution_count": 45,
   "metadata": {
    "ExecuteTime": {
     "end_time": "2020-08-07T01:33:35.561812Z",
     "start_time": "2020-08-07T01:33:35.514288Z"
    },
    "hidden": true
   },
   "outputs": [
    {
     "data": {
      "text/html": [
       "<div>\n",
       "<style scoped>\n",
       "    .dataframe tbody tr th:only-of-type {\n",
       "        vertical-align: middle;\n",
       "    }\n",
       "\n",
       "    .dataframe tbody tr th {\n",
       "        vertical-align: top;\n",
       "    }\n",
       "\n",
       "    .dataframe thead th {\n",
       "        text-align: right;\n",
       "    }\n",
       "</style>\n",
       "<table border=\"1\" class=\"dataframe\">\n",
       "  <thead>\n",
       "    <tr style=\"text-align: right;\">\n",
       "      <th></th>\n",
       "      <th>GRID_TYPE</th>\n",
       "      <th>GAME_ID</th>\n",
       "      <th>GAME_EVENT_ID</th>\n",
       "      <th>PLAYER_ID</th>\n",
       "      <th>PLAYER_NAME</th>\n",
       "      <th>TEAM_ID</th>\n",
       "      <th>TEAM_NAME</th>\n",
       "      <th>PERIOD</th>\n",
       "      <th>MINUTES_REMAINING</th>\n",
       "      <th>SECONDS_REMAINING</th>\n",
       "      <th>...</th>\n",
       "      <th>LOC_X</th>\n",
       "      <th>LOC_Y</th>\n",
       "      <th>SHOT_ATTEMPTED_FLAG</th>\n",
       "      <th>SHOT_MADE_FLAG</th>\n",
       "      <th>GAME_DATE</th>\n",
       "      <th>HTM</th>\n",
       "      <th>VTM</th>\n",
       "      <th>Season</th>\n",
       "      <th>Team2</th>\n",
       "      <th>Home vs. Away</th>\n",
       "    </tr>\n",
       "  </thead>\n",
       "  <tbody>\n",
       "    <tr>\n",
       "      <th>0</th>\n",
       "      <td>Shot Chart Detail</td>\n",
       "      <td>21900001</td>\n",
       "      <td>7</td>\n",
       "      <td>1628366</td>\n",
       "      <td>Lonzo Ball</td>\n",
       "      <td>1610612740</td>\n",
       "      <td>New Orleans Pelicans</td>\n",
       "      <td>1</td>\n",
       "      <td>11</td>\n",
       "      <td>48</td>\n",
       "      <td>...</td>\n",
       "      <td>2</td>\n",
       "      <td>114</td>\n",
       "      <td>1</td>\n",
       "      <td>0</td>\n",
       "      <td>2019-10-22</td>\n",
       "      <td>TOR</td>\n",
       "      <td>NOP</td>\n",
       "      <td>2019-2020</td>\n",
       "      <td>NOP</td>\n",
       "      <td>Away</td>\n",
       "    </tr>\n",
       "    <tr>\n",
       "      <th>1</th>\n",
       "      <td>Shot Chart Detail</td>\n",
       "      <td>21900001</td>\n",
       "      <td>9</td>\n",
       "      <td>202324</td>\n",
       "      <td>Derrick Favors</td>\n",
       "      <td>1610612740</td>\n",
       "      <td>New Orleans Pelicans</td>\n",
       "      <td>1</td>\n",
       "      <td>11</td>\n",
       "      <td>47</td>\n",
       "      <td>...</td>\n",
       "      <td>0</td>\n",
       "      <td>-6</td>\n",
       "      <td>1</td>\n",
       "      <td>1</td>\n",
       "      <td>2019-10-22</td>\n",
       "      <td>TOR</td>\n",
       "      <td>NOP</td>\n",
       "      <td>2019-2020</td>\n",
       "      <td>NOP</td>\n",
       "      <td>Away</td>\n",
       "    </tr>\n",
       "    <tr>\n",
       "      <th>2</th>\n",
       "      <td>Shot Chart Detail</td>\n",
       "      <td>21900001</td>\n",
       "      <td>10</td>\n",
       "      <td>1628384</td>\n",
       "      <td>OG Anunoby</td>\n",
       "      <td>1610612761</td>\n",
       "      <td>Toronto Raptors</td>\n",
       "      <td>1</td>\n",
       "      <td>11</td>\n",
       "      <td>29</td>\n",
       "      <td>...</td>\n",
       "      <td>15</td>\n",
       "      <td>28</td>\n",
       "      <td>1</td>\n",
       "      <td>0</td>\n",
       "      <td>2019-10-22</td>\n",
       "      <td>TOR</td>\n",
       "      <td>NOP</td>\n",
       "      <td>2019-2020</td>\n",
       "      <td>TOR</td>\n",
       "      <td>Home</td>\n",
       "    </tr>\n",
       "    <tr>\n",
       "      <th>3</th>\n",
       "      <td>Shot Chart Detail</td>\n",
       "      <td>21900001</td>\n",
       "      <td>12</td>\n",
       "      <td>201950</td>\n",
       "      <td>Jrue Holiday</td>\n",
       "      <td>1610612740</td>\n",
       "      <td>New Orleans Pelicans</td>\n",
       "      <td>1</td>\n",
       "      <td>11</td>\n",
       "      <td>16</td>\n",
       "      <td>...</td>\n",
       "      <td>81</td>\n",
       "      <td>-1</td>\n",
       "      <td>1</td>\n",
       "      <td>0</td>\n",
       "      <td>2019-10-22</td>\n",
       "      <td>TOR</td>\n",
       "      <td>NOP</td>\n",
       "      <td>2019-2020</td>\n",
       "      <td>NOP</td>\n",
       "      <td>Away</td>\n",
       "    </tr>\n",
       "    <tr>\n",
       "      <th>4</th>\n",
       "      <td>Shot Chart Detail</td>\n",
       "      <td>21900001</td>\n",
       "      <td>14</td>\n",
       "      <td>200768</td>\n",
       "      <td>Kyle Lowry</td>\n",
       "      <td>1610612761</td>\n",
       "      <td>Toronto Raptors</td>\n",
       "      <td>1</td>\n",
       "      <td>11</td>\n",
       "      <td>11</td>\n",
       "      <td>...</td>\n",
       "      <td>178</td>\n",
       "      <td>176</td>\n",
       "      <td>1</td>\n",
       "      <td>0</td>\n",
       "      <td>2019-10-22</td>\n",
       "      <td>TOR</td>\n",
       "      <td>NOP</td>\n",
       "      <td>2019-2020</td>\n",
       "      <td>TOR</td>\n",
       "      <td>Home</td>\n",
       "    </tr>\n",
       "  </tbody>\n",
       "</table>\n",
       "<p>5 rows × 27 columns</p>\n",
       "</div>"
      ],
      "text/plain": [
       "           GRID_TYPE   GAME_ID  GAME_EVENT_ID  PLAYER_ID     PLAYER_NAME  \\\n",
       "0  Shot Chart Detail  21900001              7    1628366      Lonzo Ball   \n",
       "1  Shot Chart Detail  21900001              9     202324  Derrick Favors   \n",
       "2  Shot Chart Detail  21900001             10    1628384      OG Anunoby   \n",
       "3  Shot Chart Detail  21900001             12     201950    Jrue Holiday   \n",
       "4  Shot Chart Detail  21900001             14     200768      Kyle Lowry   \n",
       "\n",
       "      TEAM_ID             TEAM_NAME  PERIOD  MINUTES_REMAINING  \\\n",
       "0  1610612740  New Orleans Pelicans       1                 11   \n",
       "1  1610612740  New Orleans Pelicans       1                 11   \n",
       "2  1610612761       Toronto Raptors       1                 11   \n",
       "3  1610612740  New Orleans Pelicans       1                 11   \n",
       "4  1610612761       Toronto Raptors       1                 11   \n",
       "\n",
       "   SECONDS_REMAINING  ... LOC_X LOC_Y SHOT_ATTEMPTED_FLAG SHOT_MADE_FLAG  \\\n",
       "0                 48  ...     2   114                   1              0   \n",
       "1                 47  ...     0    -6                   1              1   \n",
       "2                 29  ...    15    28                   1              0   \n",
       "3                 16  ...    81    -1                   1              0   \n",
       "4                 11  ...   178   176                   1              0   \n",
       "\n",
       "    GAME_DATE  HTM  VTM     Season  Team2  Home vs. Away  \n",
       "0  2019-10-22  TOR  NOP  2019-2020    NOP           Away  \n",
       "1  2019-10-22  TOR  NOP  2019-2020    NOP           Away  \n",
       "2  2019-10-22  TOR  NOP  2019-2020    TOR           Home  \n",
       "3  2019-10-22  TOR  NOP  2019-2020    NOP           Away  \n",
       "4  2019-10-22  TOR  NOP  2019-2020    TOR           Home  \n",
       "\n",
       "[5 rows x 27 columns]"
      ]
     },
     "execution_count": 45,
     "metadata": {},
     "output_type": "execute_result"
    }
   ],
   "source": [
    "df.head()"
   ]
  },
  {
   "cell_type": "code",
   "execution_count": 53,
   "metadata": {
    "ExecuteTime": {
     "end_time": "2020-08-07T04:17:46.275785Z",
     "start_time": "2020-08-07T04:17:46.236269Z"
    },
    "hidden": true
   },
   "outputs": [
    {
     "name": "stdout",
     "output_type": "stream",
     "text": [
      "['In The Paint (Non-RA)' 'Restricted Area' 'Mid-Range' 'Above the Break 3'\n",
      " 'Left Corner 3' 'Right Corner 3' 'Backcourt']\n"
     ]
    }
   ],
   "source": [
    "print(df['SHOT_ZONE_BASIC'].unique())"
   ]
  },
  {
   "cell_type": "code",
   "execution_count": 81,
   "metadata": {
    "ExecuteTime": {
     "end_time": "2020-08-07T05:59:59.337133Z",
     "start_time": "2020-08-07T05:59:59.321407Z"
    },
    "hidden": true
   },
   "outputs": [
    {
     "name": "stdout",
     "output_type": "stream",
     "text": [
      "<class 'pandas.core.frame.DataFrame'>\n",
      "RangeIndex: 400 entries, 0 to 399\n",
      "Data columns (total 8 columns):\n",
      " #   Column           Non-Null Count  Dtype  \n",
      "---  ------           --------------  -----  \n",
      " 0   GRID_TYPE        400 non-null    object \n",
      " 1   SHOT_ZONE_BASIC  400 non-null    object \n",
      " 2   SHOT_ZONE_AREA   400 non-null    object \n",
      " 3   SHOT_ZONE_RANGE  400 non-null    object \n",
      " 4   FGA              400 non-null    int64  \n",
      " 5   FGM              400 non-null    int64  \n",
      " 6   FG_PCT           400 non-null    float64\n",
      " 7   Season           400 non-null    object \n",
      "dtypes: float64(1), int64(2), object(5)\n",
      "memory usage: 25.1+ KB\n"
     ]
    }
   ],
   "source": [
    "lg.info()"
   ]
  },
  {
   "cell_type": "markdown",
   "metadata": {
    "ExecuteTime": {
     "end_time": "2020-08-07T05:59:12.564239Z",
     "start_time": "2020-08-07T05:59:12.547151Z"
    },
    "hidden": true
   },
   "source": [
    "## BIG MERGE\n",
    "\n",
    "In this sub-section the final dataframe is created by merging the entire dataframe sets created in the previuos sections.  The merge is needed in order to calculate the performance of each player in comparison to the whole leagues indicators such as the percentage of scored field goals from the total shots attempted compared to the average of the entire league."
   ]
  },
  {
   "cell_type": "code",
   "execution_count": 122,
   "metadata": {
    "ExecuteTime": {
     "end_time": "2020-08-07T08:41:18.223077Z",
     "start_time": "2020-08-07T08:41:12.424848Z"
    },
    "hidden": true
   },
   "outputs": [],
   "source": [
    "data= df.merge(lg, on=['SHOT_ZONE_BASIC','SHOT_ZONE_AREA','SHOT_ZONE_RANGE','Season'],how='outer')  "
   ]
  },
  {
   "cell_type": "code",
   "execution_count": 126,
   "metadata": {
    "ExecuteTime": {
     "end_time": "2020-08-07T08:42:24.889829Z",
     "start_time": "2020-08-07T08:42:24.881314Z"
    },
    "hidden": true
   },
   "outputs": [
    {
     "name": "stdout",
     "output_type": "stream",
     "text": [
      "(3955504, 27)\n",
      "(3955504, 31)\n"
     ]
    }
   ],
   "source": [
    "print(df.shape)\n",
    "print(data.shape) "
   ]
  },
  {
   "cell_type": "code",
   "execution_count": 127,
   "metadata": {
    "ExecuteTime": {
     "end_time": "2020-08-07T08:43:06.682906Z",
     "start_time": "2020-08-07T08:42:29.712952Z"
    },
    "hidden": true
   },
   "outputs": [],
   "source": [
    "data.to_csv(\"data.csv\", sep=\" \", header=True, index=False) "
   ]
  },
  {
   "cell_type": "markdown",
   "metadata": {
    "heading_collapsed": true
   },
   "source": [
    "# Using Selenium To Extract Headshot Images"
   ]
  },
  {
   "cell_type": "markdown",
   "metadata": {
    "hidden": true
   },
   "source": [
    "Finding headshots for a huge number of players is not an easy task as manually saving each headshot is time consuming and can be avoided using new technologies. unfortunately ready datasets could only be found in bulk for a high fee. For this reason, it was decided that web scraping techniques will be used.\n",
    "\n",
    "In the following section the extraction of images is represented using Selenium, BeautifulSoup, and other local built-in methods.  The data to be captured are name and image url.  However, the page had some issues and some names were not appending the their correct last names.  To avoid that, player_id was used as it is already avalable and linked to player name in the above dataframe.  The player_id was used and linked through Microsoft Excel in order to save time, as this was done close to the submission day.\n",
    "\n",
    "The final data were used to download each player's image and named after the player's name to easily access the photos in the saved folder.  the images were then integrated to Tableau as shapes and tested.  Using player's images to filter the dashboard was done. However, due to time limitation the experiment soon ended and instead put into future plans. For now, the code is written below with explanation for the steps.\n",
    "\n",
    "A photo of the resulted filter with the court chart was captured from Tableau and posted in the presentation attached with this notebook."
   ]
  },
  {
   "cell_type": "code",
   "execution_count": null,
   "metadata": {
    "hidden": true
   },
   "outputs": [],
   "source": [
    "# Open main page for Selenium to start fetching the data\n",
    "\n",
    "driver = webdriver.Chrome('C:\\\\Users\\\\samad\\\\Documents\\\\Courses\\\\Data Science Emmersive WCD\\Python\\\\chromedriver_win32\\\\chromedriver.exe')\n",
    "\n",
    "# access the website start page\n",
    "\n",
    "driver.get(\"https://ca.global.nba.com/playerindex/?_ga=2.155958841.385712374.1596736877-560262929.1596645498\")\n",
    "\n",
    "\n",
    "\n",
    "# Set the contents lists, which will include contents of all scraped pages\n",
    "\n",
    "content=[]\n",
    "i=2\n",
    "for i in range(1,27):\n",
    "    #wait few seconds to start extracting\n",
    "    sleep(random.uniform(1.9, 3.2))\n",
    "    \n",
    "    # extract data and save it to content lists\n",
    "    content.append(bs4.BeautifulSoup(driver.page_source,'lxml'))\n",
    "    \n",
    "    # find and click on the next page for the next alphabatecal letter\n",
    "    \n",
    "    next=driver.find_element_by_xpath(f'/html/body/div[2]/div[2]/div[2]/div/div[2]/div[2]/section/div/div/div/div/div[3]/div[2]/div[2]/div[{i}]')\n",
    "    next.click()\n",
    "    i+=1\n",
    "    \n",
    "\n",
    "\n",
    "# Create the columns for the images dataframe\n",
    "players_img = {'url':[],\n",
    "              'player_id':[]}\n",
    "\n",
    "# Find all players' images in all pages\n",
    "\n",
    "for i in range(len(content)):\n",
    "    imgs= content[i].find_all('img', class_=\"player-img\",attrs= 'src')\n",
    "\n",
    "    # split the image url and player_id number and add them to players_img table\n",
    "    \n",
    "    for tag in imgs:\n",
    "        players_img['url'].append(str(str(tag.get_text).split()[7].strip('src=\"')).strip('\"/>>'))\n",
    "        players_img['player_id'].append(str(str(str(tag.get_text).split()[7].strip('src=\"')).strip('\"/>>').split('/')[-1]).split('.')[0])\n",
    "\n",
    "# Convert the dictionary into a dataframe using pandas\n",
    "\n",
    "players_img = pd.DataFrame(players_img)\n",
    "\n",
    "# Add the http in order to access the url and connect to the web without errors\n",
    "\n",
    "players_img['url']=  'http://' + players_img['url'].astype('str')\n",
    "\n",
    "\n",
    "# Check for null values\n",
    "players_img.isnull().sum() \n",
    "#--- no null values were found---#\n",
    "\n",
    "\n",
    "# Drop duplicates\n",
    "\n",
    "players_img.drop_duplicates(subset='player_id', keep='first', inplace=True)\n",
    "# The data had a lot of duplicate images and player ids\n",
    "\n",
    "# Reset the index after dropping the columns to avoid missing index values and to make the table cleaner\n",
    "players_img.reset_index(inplace=True,drop=True)\n",
    "\n",
    "# Check the new shape of images data\n",
    "players_img.shape\n",
    "\n",
    "# Have a look at the new dataframe\n",
    "players_img.head()"
   ]
  },
  {
   "cell_type": "code",
   "execution_count": null,
   "metadata": {
    "hidden": true
   },
   "outputs": [],
   "source": [
    "# Export the data to find the names comparing to the previous dataframe\n",
    "players_img.to_excel('players_images.xls')\n",
    "\n",
    "## Importing necessary modules to save the images and use them in Tableau\n",
    "import requests # to get image from the web\n",
    "\n",
    "## Set up the image URL and filename\n",
    "for i in (range(0,players_img.shape[0])):\n",
    "    image_url = players_img['url'][i]\n",
    "    filename =  str(players_img['player_id'][i])+'.png'\n",
    "\n",
    "# Open the url image, set stream to True, this will return the stream content.\n",
    "    r = requests.get(image_url, stream = True)\n",
    "\n",
    "# Check if the image was retrieved successfully\n",
    "    if r.status_code == 200:\n",
    "    # Set decode_content value to True, otherwise the downloaded image file's size will be zero.\n",
    "        r.raw.decode_content = True\n",
    "    \n",
    "    # Open a local file with wb ( write binary ) permission.\n",
    "        file = open(filename, mode=\"wb\")\n",
    "        file.write(r.content)\n",
    "        file.close()\n",
    "\n",
    "        \n",
    "        print('Image sucessfully Downloaded: ',filename)\n",
    "    else:\n",
    "        print('Image Couldn\\'t be retreived')"
   ]
  }
 ],
 "metadata": {
  "kernelspec": {
   "display_name": "Python 3",
   "language": "python",
   "name": "python3"
  },
  "language_info": {
   "codemirror_mode": {
    "name": "ipython",
    "version": 3
   },
   "file_extension": ".py",
   "mimetype": "text/x-python",
   "name": "python",
   "nbconvert_exporter": "python",
   "pygments_lexer": "ipython3",
   "version": "3.7.6"
  },
  "toc": {
   "base_numbering": 1,
   "nav_menu": {},
   "number_sections": true,
   "sideBar": true,
   "skip_h1_title": false,
   "title_cell": "Table of Contents",
   "title_sidebar": "Contents",
   "toc_cell": false,
   "toc_position": {},
   "toc_section_display": true,
   "toc_window_display": false
  }
 },
 "nbformat": 4,
 "nbformat_minor": 4
}
